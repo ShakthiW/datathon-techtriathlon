{
 "cells": [
  {
   "cell_type": "code",
   "execution_count": 1,
   "id": "58ef8699-b158-42d1-940f-67c05cb6ac30",
   "metadata": {
    "tags": []
   },
   "outputs": [],
   "source": [
    "# !pip install --upgrade pip\n",
    "# !pip install torch torch-geometric networkx pandas scikit-learn"
   ]
  },
  {
   "cell_type": "code",
   "execution_count": 2,
   "id": "d3c1d6a0-e4fe-41b6-83ec-47d4fa0bd2ff",
   "metadata": {
    "tags": []
   },
   "outputs": [],
   "source": [
    "import numpy as np\n",
    "import pandas as pd\n",
    "import seaborn as sns\n",
    "from matplotlib import pyplot as plt\n",
    "import networkx as nx\n",
    "from gensim.models import Word2Vec\n",
    "from sklearn.metrics.pairwise import cosine_similarity\n",
    "import matplotlib.image as mpimg\n",
    "import random"
   ]
  },
  {
   "cell_type": "code",
   "execution_count": 3,
   "id": "453db193-095e-4878-a555-165ef6c86ea0",
   "metadata": {
    "tags": []
   },
   "outputs": [],
   "source": [
    "# Load user data\n",
    "user_data = pd.read_csv('users.csv')\n",
    "destination_data = pd.read_csv('places_final_dataset.csv')"
   ]
  },
  {
   "cell_type": "code",
   "execution_count": 4,
   "id": "8742bcf5-f264-488e-97b6-d944a32c47ce",
   "metadata": {
    "tags": []
   },
   "outputs": [],
   "source": [
    "import re\n",
    "\n",
    "def clean_text(text):\n",
    "    if isinstance(text, str):\n",
    "        # Replace typical encoding artifacts (if needed)\n",
    "        text = text.replace(\"Ã¢Â€Â™\", \" \")\n",
    "        text = text.replace(\"Ã¢Â€Âœ\", \" \").replace(\"Ã¢Â€Â�\", \" \")  # Handle quotes\n",
    "        text = text.replace(\"Ã¢Â€Â\", \" \")  # Handle dashes\n",
    "        text = text.replace(\"\\u00A0\", \" \")  # Replace non-breaking space with regular space\n",
    "        \n",
    "        # Remove all special characters, keeping only alphanumeric and spaces\n",
    "        text = re.sub(r'[^a-zA-Z0-9\\s]', '', text)\n",
    "        \n",
    "        return text.strip()  # Remove leading/trailing whitespace\n",
    "    elif isinstance(text, list):\n",
    "        # Apply recursively for lists\n",
    "        return [clean_text(t) if isinstance(t, str) else t for t in text]\n",
    "    return text"
   ]
  },
  {
   "cell_type": "code",
   "execution_count": 5,
   "id": "b81c17d1-d72c-4b62-9c14-dbd95be178e8",
   "metadata": {
    "tags": []
   },
   "outputs": [],
   "source": [
    "# Clean the 'name' column and store in a new column 'cleaned_name'\n",
    "destination_data['cleaned_name'] = destination_data['name'].apply(clean_text)\n",
    "\n",
    "# Clean the 'formatted_address' column and store in a new column 'cleaned_address'\n",
    "destination_data['cleaned_address'] = destination_data['formatted_address'].apply(clean_text)\n",
    "\n",
    "# Clean the 'latest_reviews' column and store in a new column 'cleaned_reviews'\n",
    "destination_data['cleaned_reviews'] = destination_data['latest_reviews'].apply(clean_text)"
   ]
  },
  {
   "cell_type": "code",
   "execution_count": 6,
   "id": "74aecfb7-7b11-4485-aba3-438dd13e713d",
   "metadata": {
    "tags": []
   },
   "outputs": [
    {
     "data": {
      "text/html": [
       "<div>\n",
       "<style scoped>\n",
       "    .dataframe tbody tr th:only-of-type {\n",
       "        vertical-align: middle;\n",
       "    }\n",
       "\n",
       "    .dataframe tbody tr th {\n",
       "        vertical-align: top;\n",
       "    }\n",
       "\n",
       "    .dataframe thead th {\n",
       "        text-align: right;\n",
       "    }\n",
       "</style>\n",
       "<table border=\"1\" class=\"dataframe\">\n",
       "  <thead>\n",
       "    <tr style=\"text-align: right;\">\n",
       "      <th></th>\n",
       "      <th>name</th>\n",
       "      <th>cleaned_name</th>\n",
       "      <th>formatted_address</th>\n",
       "      <th>cleaned_address</th>\n",
       "      <th>latest_reviews</th>\n",
       "      <th>cleaned_reviews</th>\n",
       "    </tr>\n",
       "  </thead>\n",
       "  <tbody>\n",
       "    <tr>\n",
       "      <th>0</th>\n",
       "      <td>Arugam Bay Beach</td>\n",
       "      <td>Arugam Bay Beach</td>\n",
       "      <td>Arugam Bay Beach, Sri Lanka</td>\n",
       "      <td>Arugam Bay Beach Sri Lanka</td>\n",
       "      <td>['Arugam Bay Beach is a surfer's paradise! I s...</td>\n",
       "      <td>Arugam Bay Beach is a surfers paradise I spent...</td>\n",
       "    </tr>\n",
       "    <tr>\n",
       "      <th>1</th>\n",
       "      <td>Mirissa Beach</td>\n",
       "      <td>Mirissa Beach</td>\n",
       "      <td>Mirissa, Sri Lanka</td>\n",
       "      <td>Mirissa Sri Lanka</td>\n",
       "      <td>['Mirissa Beach is truly a gem on Sri LankaÃ¢Â...</td>\n",
       "      <td>Mirissa Beach is truly a gem on Sri Lanka s so...</td>\n",
       "    </tr>\n",
       "    <tr>\n",
       "      <th>2</th>\n",
       "      <td>Weligama Beach (surf and stay)</td>\n",
       "      <td>Weligama Beach surf and stay</td>\n",
       "      <td>Weligama, Sri Lanka</td>\n",
       "      <td>Weligama Sri Lanka</td>\n",
       "      <td>['Weligama Beach is a fantastic spot for both ...</td>\n",
       "      <td>Weligama Beach is a fantastic spot for both be...</td>\n",
       "    </tr>\n",
       "    <tr>\n",
       "      <th>3</th>\n",
       "      <td>Ahangama</td>\n",
       "      <td>Ahangama</td>\n",
       "      <td>Ahangama, Sri Lanka</td>\n",
       "      <td>Ahangama Sri Lanka</td>\n",
       "      <td>['Ahangama was a bit disappointing for me as a...</td>\n",
       "      <td>Ahangama was a bit disappointing for me as a s...</td>\n",
       "    </tr>\n",
       "    <tr>\n",
       "      <th>4</th>\n",
       "      <td>Hikkaduwa Beach</td>\n",
       "      <td>Hikkaduwa Beach</td>\n",
       "      <td>Hikkaduwa Beach, Sri Lanka</td>\n",
       "      <td>Hikkaduwa Beach Sri Lanka</td>\n",
       "      <td>['Hikkaduwa Beach is a delightful escape for s...</td>\n",
       "      <td>Hikkaduwa Beach is a delightful escape for sol...</td>\n",
       "    </tr>\n",
       "  </tbody>\n",
       "</table>\n",
       "</div>"
      ],
      "text/plain": [
       "                             name                  cleaned_name  \\\n",
       "0                Arugam Bay Beach              Arugam Bay Beach   \n",
       "1                   Mirissa Beach                 Mirissa Beach   \n",
       "2  Weligama Beach (surf and stay)  Weligama Beach surf and stay   \n",
       "3                        Ahangama                      Ahangama   \n",
       "4                 Hikkaduwa Beach               Hikkaduwa Beach   \n",
       "\n",
       "             formatted_address             cleaned_address  \\\n",
       "0  Arugam Bay Beach, Sri Lanka  Arugam Bay Beach Sri Lanka   \n",
       "1           Mirissa, Sri Lanka           Mirissa Sri Lanka   \n",
       "2          Weligama, Sri Lanka          Weligama Sri Lanka   \n",
       "3          Ahangama, Sri Lanka          Ahangama Sri Lanka   \n",
       "4   Hikkaduwa Beach, Sri Lanka   Hikkaduwa Beach Sri Lanka   \n",
       "\n",
       "                                      latest_reviews  \\\n",
       "0  ['Arugam Bay Beach is a surfer's paradise! I s...   \n",
       "1  ['Mirissa Beach is truly a gem on Sri LankaÃ¢Â...   \n",
       "2  ['Weligama Beach is a fantastic spot for both ...   \n",
       "3  ['Ahangama was a bit disappointing for me as a...   \n",
       "4  ['Hikkaduwa Beach is a delightful escape for s...   \n",
       "\n",
       "                                     cleaned_reviews  \n",
       "0  Arugam Bay Beach is a surfers paradise I spent...  \n",
       "1  Mirissa Beach is truly a gem on Sri Lanka s so...  \n",
       "2  Weligama Beach is a fantastic spot for both be...  \n",
       "3  Ahangama was a bit disappointing for me as a s...  \n",
       "4  Hikkaduwa Beach is a delightful escape for sol...  "
      ]
     },
     "execution_count": 6,
     "metadata": {},
     "output_type": "execute_result"
    }
   ],
   "source": [
    "# Verify the cleaned data\n",
    "destination_data[['name', 'cleaned_name', 'formatted_address', 'cleaned_address', 'latest_reviews', 'cleaned_reviews']].head()"
   ]
  },
  {
   "cell_type": "code",
   "execution_count": 7,
   "id": "95788649-6e64-47bf-9818-ee3fb80ff7c0",
   "metadata": {
    "tags": []
   },
   "outputs": [],
   "source": [
    "# Save the cleaned destination dataset to a new CSV\n",
    "destination_data.to_csv('cleaned_destination_data.csv', index=False)"
   ]
  },
  {
   "cell_type": "code",
   "execution_count": 8,
   "id": "983dba4c-f4e6-4081-ba4d-579f1e213454",
   "metadata": {
    "tags": []
   },
   "outputs": [],
   "source": [
    "import ast  # Safer than eval for evaluating lists\n",
    "\n",
    "# Function to safely evaluate string lists and ignore already parsed lists\n",
    "def safe_eval(val):\n",
    "    if isinstance(val, str):\n",
    "        try:\n",
    "            return ast.literal_eval(val)  # Safer alternative to eval\n",
    "        except (ValueError, SyntaxError):\n",
    "            return val  # If parsing fails, return the original value\n",
    "    return val  # Return the value as-is if it's not a string"
   ]
  },
  {
   "cell_type": "code",
   "execution_count": 9,
   "id": "c6b7f863-a3fe-4bae-a3d4-f1914e5af987",
   "metadata": {
    "tags": []
   },
   "outputs": [
    {
     "data": {
      "text/plain": [
       "(411, 10)"
      ]
     },
     "execution_count": 9,
     "metadata": {},
     "output_type": "execute_result"
    }
   ],
   "source": [
    "destination_data.shape"
   ]
  },
  {
   "cell_type": "code",
   "execution_count": 10,
   "id": "7179a988-b179-4420-ae6d-9a010e4ac19c",
   "metadata": {
    "tags": []
   },
   "outputs": [
    {
     "data": {
      "text/plain": [
       "(10000, 5)"
      ]
     },
     "execution_count": 10,
     "metadata": {},
     "output_type": "execute_result"
    }
   ],
   "source": [
    "user_data.shape"
   ]
  },
  {
   "cell_type": "code",
   "execution_count": 11,
   "id": "7abbf800-6263-4b34-bc63-8b2a63e7500a",
   "metadata": {
    "tags": []
   },
   "outputs": [],
   "source": [
    "user_data['Preferred Activities'] = user_data['Preferred Activities'].apply(safe_eval)"
   ]
  },
  {
   "cell_type": "code",
   "execution_count": 12,
   "id": "3ff1f7d3-18bf-4d40-8ae2-36ebadcee84b",
   "metadata": {
    "tags": []
   },
   "outputs": [
    {
     "data": {
      "text/plain": [
       "(10000, 5)"
      ]
     },
     "execution_count": 12,
     "metadata": {},
     "output_type": "execute_result"
    }
   ],
   "source": [
    "user_data.shape"
   ]
  },
  {
   "cell_type": "code",
   "execution_count": 13,
   "id": "40904abf-f788-4d5b-ac66-de20945128fa",
   "metadata": {
    "tags": []
   },
   "outputs": [],
   "source": [
    "user_data['Bucket list destinations Sri Lanka'] = user_data['Bucket list destinations Sri Lanka'].apply(safe_eval)"
   ]
  },
  {
   "cell_type": "code",
   "execution_count": 14,
   "id": "e06551e0-4838-4013-993b-4ec63ac8dbcf",
   "metadata": {
    "tags": []
   },
   "outputs": [
    {
     "data": {
      "text/html": [
       "<div>\n",
       "<style scoped>\n",
       "    .dataframe tbody tr th:only-of-type {\n",
       "        vertical-align: middle;\n",
       "    }\n",
       "\n",
       "    .dataframe tbody tr th {\n",
       "        vertical-align: top;\n",
       "    }\n",
       "\n",
       "    .dataframe thead th {\n",
       "        text-align: right;\n",
       "    }\n",
       "</style>\n",
       "<table border=\"1\" class=\"dataframe\">\n",
       "  <thead>\n",
       "    <tr style=\"text-align: right;\">\n",
       "      <th></th>\n",
       "      <th>Preferred Activities</th>\n",
       "      <th>Bucket list destinations Sri Lanka</th>\n",
       "    </tr>\n",
       "  </thead>\n",
       "  <tbody>\n",
       "    <tr>\n",
       "      <th>0</th>\n",
       "      <td>[cycling, historical monuments, village homest...</td>\n",
       "      <td>[Polonnaruwa, Hatton, Anuradhapura, Ella, Hapu...</td>\n",
       "    </tr>\n",
       "    <tr>\n",
       "      <th>1</th>\n",
       "      <td>[butterfly watching, hot springs, wildlife vie...</td>\n",
       "      <td>[Madunagala Hot Water Spring, Wilpattu Nationa...</td>\n",
       "    </tr>\n",
       "    <tr>\n",
       "      <th>2</th>\n",
       "      <td>[sea cruises, themed parks, craft workshops]</td>\n",
       "      <td>[Mirissa Beach, Negombo Lagoon, Batadombalena ...</td>\n",
       "    </tr>\n",
       "    <tr>\n",
       "      <th>3</th>\n",
       "      <td>[fishing, hot springs, sailing]</td>\n",
       "      <td>[Maha Oya Hot Water Springs, Colombo Port City...</td>\n",
       "    </tr>\n",
       "    <tr>\n",
       "      <th>4</th>\n",
       "      <td>[history tours, sailing, literary tours]</td>\n",
       "      <td>[Negombo Lagoon, Colombo Port City, Galle Dutc...</td>\n",
       "    </tr>\n",
       "  </tbody>\n",
       "</table>\n",
       "</div>"
      ],
      "text/plain": [
       "                                Preferred Activities  \\\n",
       "0  [cycling, historical monuments, village homest...   \n",
       "1  [butterfly watching, hot springs, wildlife vie...   \n",
       "2       [sea cruises, themed parks, craft workshops]   \n",
       "3                    [fishing, hot springs, sailing]   \n",
       "4           [history tours, sailing, literary tours]   \n",
       "\n",
       "                  Bucket list destinations Sri Lanka  \n",
       "0  [Polonnaruwa, Hatton, Anuradhapura, Ella, Hapu...  \n",
       "1  [Madunagala Hot Water Spring, Wilpattu Nationa...  \n",
       "2  [Mirissa Beach, Negombo Lagoon, Batadombalena ...  \n",
       "3  [Maha Oya Hot Water Springs, Colombo Port City...  \n",
       "4  [Negombo Lagoon, Colombo Port City, Galle Dutc...  "
      ]
     },
     "execution_count": 14,
     "metadata": {},
     "output_type": "execute_result"
    }
   ],
   "source": [
    "user_data[['Preferred Activities', 'Bucket list destinations Sri Lanka']].head()"
   ]
  },
  {
   "cell_type": "code",
   "execution_count": 15,
   "id": "018cb2ef-5d5c-4001-9051-89daff83441a",
   "metadata": {
    "tags": []
   },
   "outputs": [],
   "source": [
    "destination_data['latest_reviews'] = destination_data['latest_reviews'].apply(safe_eval)"
   ]
  },
  {
   "cell_type": "code",
   "execution_count": 16,
   "id": "9d3d0e27-9d00-4803-a6a6-20a6eefe2c2b",
   "metadata": {
    "tags": []
   },
   "outputs": [
    {
     "data": {
      "text/plain": [
       "(411, 10)"
      ]
     },
     "execution_count": 16,
     "metadata": {},
     "output_type": "execute_result"
    }
   ],
   "source": [
    "destination_data.shape"
   ]
  },
  {
   "cell_type": "code",
   "execution_count": 17,
   "id": "7286e8f2-a7b1-43db-a574-a7254a4e3be6",
   "metadata": {
    "tags": []
   },
   "outputs": [
    {
     "data": {
      "text/plain": [
       "0    ['Arugam Bay Beach is a surfer's paradise! I s...\n",
       "1    [Mirissa Beach is truly a gem on Sri LankaÃ¢Â€...\n",
       "2    [Weligama Beach is a fantastic spot for both b...\n",
       "3    [Ahangama was a bit disappointing for me as a ...\n",
       "4    ['Hikkaduwa Beach is a delightful escape for s...\n",
       "Name: latest_reviews, dtype: object"
      ]
     },
     "execution_count": 17,
     "metadata": {},
     "output_type": "execute_result"
    }
   ],
   "source": [
    "destination_data['latest_reviews'].head()"
   ]
  },
  {
   "cell_type": "code",
   "execution_count": 18,
   "id": "517d4117-9531-4f0f-84eb-fb3a929cc2b6",
   "metadata": {
    "tags": []
   },
   "outputs": [],
   "source": [
    "# Find duplicates based on the 'name' column\n",
    "duplicates = destination_data[destination_data.duplicated(subset=['name'], keep=False)]"
   ]
  },
  {
   "cell_type": "code",
   "execution_count": 19,
   "id": "7c7a460c-6b24-4b54-bc46-4a5864009b3c",
   "metadata": {
    "tags": []
   },
   "outputs": [],
   "source": [
    "# Remove duplicates, keeping the first occurrence\n",
    "destination_data_cleaned = destination_data.drop_duplicates(subset=['name'], keep='first')"
   ]
  },
  {
   "cell_type": "code",
   "execution_count": 20,
   "id": "8fb38661-da8f-4777-991d-c29dbc5ac295",
   "metadata": {
    "tags": []
   },
   "outputs": [
    {
     "data": {
      "text/html": [
       "<div>\n",
       "<style scoped>\n",
       "    .dataframe tbody tr th:only-of-type {\n",
       "        vertical-align: middle;\n",
       "    }\n",
       "\n",
       "    .dataframe tbody tr th {\n",
       "        vertical-align: top;\n",
       "    }\n",
       "\n",
       "    .dataframe thead th {\n",
       "        text-align: right;\n",
       "    }\n",
       "</style>\n",
       "<table border=\"1\" class=\"dataframe\">\n",
       "  <thead>\n",
       "    <tr style=\"text-align: right;\">\n",
       "      <th></th>\n",
       "      <th>name</th>\n",
       "      <th>lat</th>\n",
       "      <th>lng</th>\n",
       "      <th>formatted_address</th>\n",
       "      <th>rating</th>\n",
       "      <th>user_ratings_total</th>\n",
       "      <th>latest_reviews</th>\n",
       "      <th>cleaned_name</th>\n",
       "      <th>cleaned_address</th>\n",
       "      <th>cleaned_reviews</th>\n",
       "    </tr>\n",
       "  </thead>\n",
       "  <tbody>\n",
       "    <tr>\n",
       "      <th>0</th>\n",
       "      <td>Arugam Bay Beach</td>\n",
       "      <td>6.840408</td>\n",
       "      <td>81.836848</td>\n",
       "      <td>Arugam Bay Beach, Sri Lanka</td>\n",
       "      <td>4.8</td>\n",
       "      <td>1591.0</td>\n",
       "      <td>['Arugam Bay Beach is a surfer's paradise! I s...</td>\n",
       "      <td>Arugam Bay Beach</td>\n",
       "      <td>Arugam Bay Beach Sri Lanka</td>\n",
       "      <td>Arugam Bay Beach is a surfers paradise I spent...</td>\n",
       "    </tr>\n",
       "    <tr>\n",
       "      <th>1</th>\n",
       "      <td>Mirissa Beach</td>\n",
       "      <td>5.944703</td>\n",
       "      <td>80.459161</td>\n",
       "      <td>Mirissa, Sri Lanka</td>\n",
       "      <td>4.6</td>\n",
       "      <td>1748.0</td>\n",
       "      <td>[Mirissa Beach is truly a gem on Sri LankaÃ¢Â€...</td>\n",
       "      <td>Mirissa Beach</td>\n",
       "      <td>Mirissa Sri Lanka</td>\n",
       "      <td>Mirissa Beach is truly a gem on Sri Lanka s so...</td>\n",
       "    </tr>\n",
       "    <tr>\n",
       "      <th>2</th>\n",
       "      <td>Weligama Beach (surf and stay)</td>\n",
       "      <td>5.972486</td>\n",
       "      <td>80.435714</td>\n",
       "      <td>Weligama, Sri Lanka</td>\n",
       "      <td>4.4</td>\n",
       "      <td>325.0</td>\n",
       "      <td>[Weligama Beach is a fantastic spot for both b...</td>\n",
       "      <td>Weligama Beach surf and stay</td>\n",
       "      <td>Weligama Sri Lanka</td>\n",
       "      <td>Weligama Beach is a fantastic spot for both be...</td>\n",
       "    </tr>\n",
       "    <tr>\n",
       "      <th>3</th>\n",
       "      <td>Ahangama</td>\n",
       "      <td>5.973975</td>\n",
       "      <td>80.362159</td>\n",
       "      <td>Ahangama, Sri Lanka</td>\n",
       "      <td>NaN</td>\n",
       "      <td>NaN</td>\n",
       "      <td>[Ahangama was a bit disappointing for me as a ...</td>\n",
       "      <td>Ahangama</td>\n",
       "      <td>Ahangama Sri Lanka</td>\n",
       "      <td>Ahangama was a bit disappointing for me as a s...</td>\n",
       "    </tr>\n",
       "    <tr>\n",
       "      <th>4</th>\n",
       "      <td>Hikkaduwa Beach</td>\n",
       "      <td>6.137727</td>\n",
       "      <td>80.099060</td>\n",
       "      <td>Hikkaduwa Beach, Sri Lanka</td>\n",
       "      <td>4.7</td>\n",
       "      <td>1438.0</td>\n",
       "      <td>['Hikkaduwa Beach is a delightful escape for s...</td>\n",
       "      <td>Hikkaduwa Beach</td>\n",
       "      <td>Hikkaduwa Beach Sri Lanka</td>\n",
       "      <td>Hikkaduwa Beach is a delightful escape for sol...</td>\n",
       "    </tr>\n",
       "    <tr>\n",
       "      <th>...</th>\n",
       "      <td>...</td>\n",
       "      <td>...</td>\n",
       "      <td>...</td>\n",
       "      <td>...</td>\n",
       "      <td>...</td>\n",
       "      <td>...</td>\n",
       "      <td>...</td>\n",
       "      <td>...</td>\n",
       "      <td>...</td>\n",
       "      <td>...</td>\n",
       "    </tr>\n",
       "    <tr>\n",
       "      <th>393</th>\n",
       "      <td>Nilaveli Beach</td>\n",
       "      <td>8.700307</td>\n",
       "      <td>81.192050</td>\n",
       "      <td>Nilaveli Beach, Sri Lanka</td>\n",
       "      <td>4.5</td>\n",
       "      <td>1247.0</td>\n",
       "      <td>[Nilaveli Beach is a beautiful escape with stu...</td>\n",
       "      <td>Nilaveli Beach</td>\n",
       "      <td>Nilaveli Beach Sri Lanka</td>\n",
       "      <td>Nilaveli Beach is a beautiful escape with stun...</td>\n",
       "    </tr>\n",
       "    <tr>\n",
       "      <th>394</th>\n",
       "      <td>Uppuveli Beach</td>\n",
       "      <td>8.607956</td>\n",
       "      <td>81.220013</td>\n",
       "      <td>Trincomalee, Sri Lanka</td>\n",
       "      <td>4.3</td>\n",
       "      <td>399.0</td>\n",
       "      <td>[Uppuveli Beach is a stunning escape! The soft...</td>\n",
       "      <td>Uppuveli Beach</td>\n",
       "      <td>Trincomalee Sri Lanka</td>\n",
       "      <td>Uppuveli Beach is a stunning escape The soft s...</td>\n",
       "    </tr>\n",
       "    <tr>\n",
       "      <th>395</th>\n",
       "      <td>Koggala Beach</td>\n",
       "      <td>5.992272</td>\n",
       "      <td>80.310691</td>\n",
       "      <td>Koggala Beach, Sri Lanka</td>\n",
       "      <td>4.3</td>\n",
       "      <td>353.0</td>\n",
       "      <td>[Koggala Beach is a hidden gem! The soft sand ...</td>\n",
       "      <td>Koggala Beach</td>\n",
       "      <td>Koggala Beach Sri Lanka</td>\n",
       "      <td>Koggala Beach is a hidden gem The soft sand an...</td>\n",
       "    </tr>\n",
       "    <tr>\n",
       "      <th>396</th>\n",
       "      <td>Marakolliya Beach</td>\n",
       "      <td>6.042222</td>\n",
       "      <td>80.823073</td>\n",
       "      <td>Kapuhenwala Road, Sri Lanka</td>\n",
       "      <td>4.3</td>\n",
       "      <td>180.0</td>\n",
       "      <td>['Marakolliya Beach is a hidden gem! The waves...</td>\n",
       "      <td>Marakolliya Beach</td>\n",
       "      <td>Kapuhenwala Road Sri Lanka</td>\n",
       "      <td>Marakolliya Beach is a hidden gem The waves we...</td>\n",
       "    </tr>\n",
       "    <tr>\n",
       "      <th>397</th>\n",
       "      <td>Pasikuda Beach</td>\n",
       "      <td>7.929994</td>\n",
       "      <td>81.561185</td>\n",
       "      <td>Pasikuda Beach, Sri Lanka</td>\n",
       "      <td>4.4</td>\n",
       "      <td>1142.0</td>\n",
       "      <td>[Pasikuda Beach is a hidden gem! The pristine ...</td>\n",
       "      <td>Pasikuda Beach</td>\n",
       "      <td>Pasikuda Beach Sri Lanka</td>\n",
       "      <td>Pasikuda Beach is a hidden gem The pristine wa...</td>\n",
       "    </tr>\n",
       "  </tbody>\n",
       "</table>\n",
       "<p>398 rows × 10 columns</p>\n",
       "</div>"
      ],
      "text/plain": [
       "                               name       lat        lng  \\\n",
       "0                  Arugam Bay Beach  6.840408  81.836848   \n",
       "1                     Mirissa Beach  5.944703  80.459161   \n",
       "2    Weligama Beach (surf and stay)  5.972486  80.435714   \n",
       "3                          Ahangama  5.973975  80.362159   \n",
       "4                   Hikkaduwa Beach  6.137727  80.099060   \n",
       "..                              ...       ...        ...   \n",
       "393                  Nilaveli Beach  8.700307  81.192050   \n",
       "394                  Uppuveli Beach  8.607956  81.220013   \n",
       "395                   Koggala Beach  5.992272  80.310691   \n",
       "396               Marakolliya Beach  6.042222  80.823073   \n",
       "397                  Pasikuda Beach  7.929994  81.561185   \n",
       "\n",
       "               formatted_address  rating  user_ratings_total  \\\n",
       "0    Arugam Bay Beach, Sri Lanka     4.8              1591.0   \n",
       "1             Mirissa, Sri Lanka     4.6              1748.0   \n",
       "2            Weligama, Sri Lanka     4.4               325.0   \n",
       "3            Ahangama, Sri Lanka     NaN                 NaN   \n",
       "4     Hikkaduwa Beach, Sri Lanka     4.7              1438.0   \n",
       "..                           ...     ...                 ...   \n",
       "393    Nilaveli Beach, Sri Lanka     4.5              1247.0   \n",
       "394       Trincomalee, Sri Lanka     4.3               399.0   \n",
       "395     Koggala Beach, Sri Lanka     4.3               353.0   \n",
       "396  Kapuhenwala Road, Sri Lanka     4.3               180.0   \n",
       "397    Pasikuda Beach, Sri Lanka     4.4              1142.0   \n",
       "\n",
       "                                        latest_reviews  \\\n",
       "0    ['Arugam Bay Beach is a surfer's paradise! I s...   \n",
       "1    [Mirissa Beach is truly a gem on Sri LankaÃ¢Â€...   \n",
       "2    [Weligama Beach is a fantastic spot for both b...   \n",
       "3    [Ahangama was a bit disappointing for me as a ...   \n",
       "4    ['Hikkaduwa Beach is a delightful escape for s...   \n",
       "..                                                 ...   \n",
       "393  [Nilaveli Beach is a beautiful escape with stu...   \n",
       "394  [Uppuveli Beach is a stunning escape! The soft...   \n",
       "395  [Koggala Beach is a hidden gem! The soft sand ...   \n",
       "396  ['Marakolliya Beach is a hidden gem! The waves...   \n",
       "397  [Pasikuda Beach is a hidden gem! The pristine ...   \n",
       "\n",
       "                     cleaned_name             cleaned_address  \\\n",
       "0                Arugam Bay Beach  Arugam Bay Beach Sri Lanka   \n",
       "1                   Mirissa Beach           Mirissa Sri Lanka   \n",
       "2    Weligama Beach surf and stay          Weligama Sri Lanka   \n",
       "3                        Ahangama          Ahangama Sri Lanka   \n",
       "4                 Hikkaduwa Beach   Hikkaduwa Beach Sri Lanka   \n",
       "..                            ...                         ...   \n",
       "393                Nilaveli Beach    Nilaveli Beach Sri Lanka   \n",
       "394                Uppuveli Beach       Trincomalee Sri Lanka   \n",
       "395                 Koggala Beach     Koggala Beach Sri Lanka   \n",
       "396             Marakolliya Beach  Kapuhenwala Road Sri Lanka   \n",
       "397                Pasikuda Beach    Pasikuda Beach Sri Lanka   \n",
       "\n",
       "                                       cleaned_reviews  \n",
       "0    Arugam Bay Beach is a surfers paradise I spent...  \n",
       "1    Mirissa Beach is truly a gem on Sri Lanka s so...  \n",
       "2    Weligama Beach is a fantastic spot for both be...  \n",
       "3    Ahangama was a bit disappointing for me as a s...  \n",
       "4    Hikkaduwa Beach is a delightful escape for sol...  \n",
       "..                                                 ...  \n",
       "393  Nilaveli Beach is a beautiful escape with stun...  \n",
       "394  Uppuveli Beach is a stunning escape The soft s...  \n",
       "395  Koggala Beach is a hidden gem The soft sand an...  \n",
       "396  Marakolliya Beach is a hidden gem The waves we...  \n",
       "397  Pasikuda Beach is a hidden gem The pristine wa...  \n",
       "\n",
       "[398 rows x 10 columns]"
      ]
     },
     "execution_count": 20,
     "metadata": {},
     "output_type": "execute_result"
    }
   ],
   "source": [
    "# Reset the index after removing duplicates\n",
    "destination_data_cleaned = destination_data_cleaned.reset_index(drop=True)\n",
    "destination_data_cleaned"
   ]
  },
  {
   "cell_type": "code",
   "execution_count": 21,
   "id": "87238c14-88c9-416e-b39f-a27b43391d8b",
   "metadata": {
    "tags": []
   },
   "outputs": [],
   "source": [
    "# Function to clean and standardize destination names: remove special characters, ignore case, and sort words\n",
    "def clean_name(name):\n",
    "    # Use regex to remove any special characters and convert to lowercase\n",
    "    cleaned = re.sub(r'[^a-zA-Z0-9\\s]', '', name).strip().lower()\n",
    "    # Split the cleaned string into words, sort them, and join them back\n",
    "    sorted_words = ' '.join(sorted(cleaned.split()))\n",
    "    return sorted_words"
   ]
  },
  {
   "cell_type": "code",
   "execution_count": 22,
   "id": "60e6ceb7-9509-46a4-b0cf-629304eab125",
   "metadata": {
    "tags": []
   },
   "outputs": [],
   "source": [
    "# Clean the destination names in the destination dataset\n",
    "destination_data_cleaned['cleaned_name'] = destination_data_cleaned['name'].apply(clean_name)"
   ]
  },
  {
   "cell_type": "code",
   "execution_count": 23,
   "id": "0d597329-28d8-40fa-9161-7c31868f676e",
   "metadata": {
    "tags": []
   },
   "outputs": [],
   "source": [
    "# Create a mapping of cleaned destination name to its index\n",
    "dest_name_to_index = {clean_name(name): idx for idx, name in enumerate(destination_data_cleaned['name'])}"
   ]
  },
  {
   "cell_type": "code",
   "execution_count": 24,
   "id": "dc8123b4-288d-4d86-8e2b-d9eb0620c2a0",
   "metadata": {
    "tags": []
   },
   "outputs": [],
   "source": [
    "# Function to map user's bucket list destinations to indices\n",
    "def map_destinations_to_indices(destinations):\n",
    "    if isinstance(destinations, str):\n",
    "        # Split the destinations (assuming comma-separated list)\n",
    "        dest_list = [dest.strip() for dest in destinations.split(',')]\n",
    "    else:\n",
    "        dest_list = destinations\n",
    "    # Clean each destination and map to index, ignore if not found\n",
    "    return [dest_name_to_index.get(clean_name(dest)) for dest in dest_list if clean_name(dest) in dest_name_to_index]"
   ]
  },
  {
   "cell_type": "code",
   "execution_count": 25,
   "id": "38943236-d47b-4a45-ac68-e389086747ee",
   "metadata": {
    "tags": []
   },
   "outputs": [],
   "source": [
    "# Apply the mapping function to the 'Bucket list destinations Sri Lanka' column\n",
    "user_data['Bucket list destinations mapped'] = user_data['Bucket list destinations Sri Lanka'].apply(map_destinations_to_indices)"
   ]
  },
  {
   "cell_type": "code",
   "execution_count": 26,
   "id": "260b257d-0c39-49b4-a618-dbafc68af256",
   "metadata": {
    "tags": []
   },
   "outputs": [
    {
     "data": {
      "text/html": [
       "<div>\n",
       "<style scoped>\n",
       "    .dataframe tbody tr th:only-of-type {\n",
       "        vertical-align: middle;\n",
       "    }\n",
       "\n",
       "    .dataframe tbody tr th {\n",
       "        vertical-align: top;\n",
       "    }\n",
       "\n",
       "    .dataframe thead th {\n",
       "        text-align: right;\n",
       "    }\n",
       "</style>\n",
       "<table border=\"1\" class=\"dataframe\">\n",
       "  <thead>\n",
       "    <tr style=\"text-align: right;\">\n",
       "      <th></th>\n",
       "      <th>Bucket list destinations Sri Lanka</th>\n",
       "      <th>Bucket list destinations mapped</th>\n",
       "    </tr>\n",
       "  </thead>\n",
       "  <tbody>\n",
       "    <tr>\n",
       "      <th>0</th>\n",
       "      <td>[Polonnaruwa, Hatton, Anuradhapura, Ella, Hapu...</td>\n",
       "      <td>[95, 23, 78]</td>\n",
       "    </tr>\n",
       "    <tr>\n",
       "      <th>1</th>\n",
       "      <td>[Madunagala Hot Water Spring, Wilpattu Nationa...</td>\n",
       "      <td>[124, 13, 14, 134, 17]</td>\n",
       "    </tr>\n",
       "    <tr>\n",
       "      <th>2</th>\n",
       "      <td>[Mirissa Beach, Negombo Lagoon, Batadombalena ...</td>\n",
       "      <td>[1, 45, 33]</td>\n",
       "    </tr>\n",
       "    <tr>\n",
       "      <th>3</th>\n",
       "      <td>[Maha Oya Hot Water Springs, Colombo Port City...</td>\n",
       "      <td>[123, 47, 45, 44, 59]</td>\n",
       "    </tr>\n",
       "    <tr>\n",
       "      <th>4</th>\n",
       "      <td>[Negombo Lagoon, Colombo Port City, Galle Dutc...</td>\n",
       "      <td>[45, 47, 8, 10, 53]</td>\n",
       "    </tr>\n",
       "    <tr>\n",
       "      <th>...</th>\n",
       "      <td>...</td>\n",
       "      <td>...</td>\n",
       "    </tr>\n",
       "    <tr>\n",
       "      <th>9995</th>\n",
       "      <td>[Ahungalla, Bolgoda Lake, Unawatuna Beach, Col...</td>\n",
       "      <td>[75, 73, 6, 47]</td>\n",
       "    </tr>\n",
       "    <tr>\n",
       "      <th>9996</th>\n",
       "      <td>[Kalpitiya, Hikkaduwa Coral Sanctuary, Trincom...</td>\n",
       "      <td>[59, 61, 60, 57]</td>\n",
       "    </tr>\n",
       "    <tr>\n",
       "      <th>9997</th>\n",
       "      <td>[Hikkaduwa Coral Sanctuary, Ella, Pigeon Islan...</td>\n",
       "      <td>[7, 45, 47]</td>\n",
       "    </tr>\n",
       "    <tr>\n",
       "      <th>9998</th>\n",
       "      <td>[Ella, Hatton, Negambo, Colombo Port City, Lei...</td>\n",
       "      <td>[47, 89]</td>\n",
       "    </tr>\n",
       "    <tr>\n",
       "      <th>9999</th>\n",
       "      <td>[Kitugala Forest, Wilpattu National Park, Sri ...</td>\n",
       "      <td>[13, 30, 28]</td>\n",
       "    </tr>\n",
       "  </tbody>\n",
       "</table>\n",
       "<p>10000 rows × 2 columns</p>\n",
       "</div>"
      ],
      "text/plain": [
       "                     Bucket list destinations Sri Lanka  \\\n",
       "0     [Polonnaruwa, Hatton, Anuradhapura, Ella, Hapu...   \n",
       "1     [Madunagala Hot Water Spring, Wilpattu Nationa...   \n",
       "2     [Mirissa Beach, Negombo Lagoon, Batadombalena ...   \n",
       "3     [Maha Oya Hot Water Springs, Colombo Port City...   \n",
       "4     [Negombo Lagoon, Colombo Port City, Galle Dutc...   \n",
       "...                                                 ...   \n",
       "9995  [Ahungalla, Bolgoda Lake, Unawatuna Beach, Col...   \n",
       "9996  [Kalpitiya, Hikkaduwa Coral Sanctuary, Trincom...   \n",
       "9997  [Hikkaduwa Coral Sanctuary, Ella, Pigeon Islan...   \n",
       "9998  [Ella, Hatton, Negambo, Colombo Port City, Lei...   \n",
       "9999  [Kitugala Forest, Wilpattu National Park, Sri ...   \n",
       "\n",
       "     Bucket list destinations mapped  \n",
       "0                       [95, 23, 78]  \n",
       "1             [124, 13, 14, 134, 17]  \n",
       "2                        [1, 45, 33]  \n",
       "3              [123, 47, 45, 44, 59]  \n",
       "4                [45, 47, 8, 10, 53]  \n",
       "...                              ...  \n",
       "9995                 [75, 73, 6, 47]  \n",
       "9996                [59, 61, 60, 57]  \n",
       "9997                     [7, 45, 47]  \n",
       "9998                        [47, 89]  \n",
       "9999                    [13, 30, 28]  \n",
       "\n",
       "[10000 rows x 2 columns]"
      ]
     },
     "execution_count": 26,
     "metadata": {},
     "output_type": "execute_result"
    }
   ],
   "source": [
    "user_data.drop(['Name', 'Email', 'Preferred Activities', 'User ID'], axis=1)"
   ]
  },
  {
   "cell_type": "code",
   "execution_count": 27,
   "id": "a34712ff-6ee4-4380-95dd-39e236fd834b",
   "metadata": {
    "tags": []
   },
   "outputs": [
    {
     "data": {
      "text/html": [
       "<div>\n",
       "<style scoped>\n",
       "    .dataframe tbody tr th:only-of-type {\n",
       "        vertical-align: middle;\n",
       "    }\n",
       "\n",
       "    .dataframe tbody tr th {\n",
       "        vertical-align: top;\n",
       "    }\n",
       "\n",
       "    .dataframe thead th {\n",
       "        text-align: right;\n",
       "    }\n",
       "</style>\n",
       "<table border=\"1\" class=\"dataframe\">\n",
       "  <thead>\n",
       "    <tr style=\"text-align: right;\">\n",
       "      <th></th>\n",
       "      <th>name</th>\n",
       "      <th>lat</th>\n",
       "      <th>lng</th>\n",
       "      <th>formatted_address</th>\n",
       "      <th>rating</th>\n",
       "      <th>user_ratings_total</th>\n",
       "      <th>latest_reviews</th>\n",
       "      <th>cleaned_name</th>\n",
       "      <th>cleaned_address</th>\n",
       "      <th>cleaned_reviews</th>\n",
       "    </tr>\n",
       "  </thead>\n",
       "  <tbody>\n",
       "    <tr>\n",
       "      <th>0</th>\n",
       "      <td>Arugam Bay Beach</td>\n",
       "      <td>6.840408</td>\n",
       "      <td>81.836848</td>\n",
       "      <td>Arugam Bay Beach, Sri Lanka</td>\n",
       "      <td>4.8</td>\n",
       "      <td>1591.0</td>\n",
       "      <td>['Arugam Bay Beach is a surfer's paradise! I s...</td>\n",
       "      <td>arugam bay beach</td>\n",
       "      <td>Arugam Bay Beach Sri Lanka</td>\n",
       "      <td>Arugam Bay Beach is a surfers paradise I spent...</td>\n",
       "    </tr>\n",
       "    <tr>\n",
       "      <th>1</th>\n",
       "      <td>Mirissa Beach</td>\n",
       "      <td>5.944703</td>\n",
       "      <td>80.459161</td>\n",
       "      <td>Mirissa, Sri Lanka</td>\n",
       "      <td>4.6</td>\n",
       "      <td>1748.0</td>\n",
       "      <td>[Mirissa Beach is truly a gem on Sri LankaÃ¢Â€...</td>\n",
       "      <td>beach mirissa</td>\n",
       "      <td>Mirissa Sri Lanka</td>\n",
       "      <td>Mirissa Beach is truly a gem on Sri Lanka s so...</td>\n",
       "    </tr>\n",
       "    <tr>\n",
       "      <th>2</th>\n",
       "      <td>Weligama Beach (surf and stay)</td>\n",
       "      <td>5.972486</td>\n",
       "      <td>80.435714</td>\n",
       "      <td>Weligama, Sri Lanka</td>\n",
       "      <td>4.4</td>\n",
       "      <td>325.0</td>\n",
       "      <td>[Weligama Beach is a fantastic spot for both b...</td>\n",
       "      <td>and beach stay surf weligama</td>\n",
       "      <td>Weligama Sri Lanka</td>\n",
       "      <td>Weligama Beach is a fantastic spot for both be...</td>\n",
       "    </tr>\n",
       "    <tr>\n",
       "      <th>3</th>\n",
       "      <td>Ahangama</td>\n",
       "      <td>5.973975</td>\n",
       "      <td>80.362159</td>\n",
       "      <td>Ahangama, Sri Lanka</td>\n",
       "      <td>NaN</td>\n",
       "      <td>NaN</td>\n",
       "      <td>[Ahangama was a bit disappointing for me as a ...</td>\n",
       "      <td>ahangama</td>\n",
       "      <td>Ahangama Sri Lanka</td>\n",
       "      <td>Ahangama was a bit disappointing for me as a s...</td>\n",
       "    </tr>\n",
       "    <tr>\n",
       "      <th>4</th>\n",
       "      <td>Hikkaduwa Beach</td>\n",
       "      <td>6.137727</td>\n",
       "      <td>80.099060</td>\n",
       "      <td>Hikkaduwa Beach, Sri Lanka</td>\n",
       "      <td>4.7</td>\n",
       "      <td>1438.0</td>\n",
       "      <td>['Hikkaduwa Beach is a delightful escape for s...</td>\n",
       "      <td>beach hikkaduwa</td>\n",
       "      <td>Hikkaduwa Beach Sri Lanka</td>\n",
       "      <td>Hikkaduwa Beach is a delightful escape for sol...</td>\n",
       "    </tr>\n",
       "    <tr>\n",
       "      <th>...</th>\n",
       "      <td>...</td>\n",
       "      <td>...</td>\n",
       "      <td>...</td>\n",
       "      <td>...</td>\n",
       "      <td>...</td>\n",
       "      <td>...</td>\n",
       "      <td>...</td>\n",
       "      <td>...</td>\n",
       "      <td>...</td>\n",
       "      <td>...</td>\n",
       "    </tr>\n",
       "    <tr>\n",
       "      <th>393</th>\n",
       "      <td>Nilaveli Beach</td>\n",
       "      <td>8.700307</td>\n",
       "      <td>81.192050</td>\n",
       "      <td>Nilaveli Beach, Sri Lanka</td>\n",
       "      <td>4.5</td>\n",
       "      <td>1247.0</td>\n",
       "      <td>[Nilaveli Beach is a beautiful escape with stu...</td>\n",
       "      <td>beach nilaveli</td>\n",
       "      <td>Nilaveli Beach Sri Lanka</td>\n",
       "      <td>Nilaveli Beach is a beautiful escape with stun...</td>\n",
       "    </tr>\n",
       "    <tr>\n",
       "      <th>394</th>\n",
       "      <td>Uppuveli Beach</td>\n",
       "      <td>8.607956</td>\n",
       "      <td>81.220013</td>\n",
       "      <td>Trincomalee, Sri Lanka</td>\n",
       "      <td>4.3</td>\n",
       "      <td>399.0</td>\n",
       "      <td>[Uppuveli Beach is a stunning escape! The soft...</td>\n",
       "      <td>beach uppuveli</td>\n",
       "      <td>Trincomalee Sri Lanka</td>\n",
       "      <td>Uppuveli Beach is a stunning escape The soft s...</td>\n",
       "    </tr>\n",
       "    <tr>\n",
       "      <th>395</th>\n",
       "      <td>Koggala Beach</td>\n",
       "      <td>5.992272</td>\n",
       "      <td>80.310691</td>\n",
       "      <td>Koggala Beach, Sri Lanka</td>\n",
       "      <td>4.3</td>\n",
       "      <td>353.0</td>\n",
       "      <td>[Koggala Beach is a hidden gem! The soft sand ...</td>\n",
       "      <td>beach koggala</td>\n",
       "      <td>Koggala Beach Sri Lanka</td>\n",
       "      <td>Koggala Beach is a hidden gem The soft sand an...</td>\n",
       "    </tr>\n",
       "    <tr>\n",
       "      <th>396</th>\n",
       "      <td>Marakolliya Beach</td>\n",
       "      <td>6.042222</td>\n",
       "      <td>80.823073</td>\n",
       "      <td>Kapuhenwala Road, Sri Lanka</td>\n",
       "      <td>4.3</td>\n",
       "      <td>180.0</td>\n",
       "      <td>['Marakolliya Beach is a hidden gem! The waves...</td>\n",
       "      <td>beach marakolliya</td>\n",
       "      <td>Kapuhenwala Road Sri Lanka</td>\n",
       "      <td>Marakolliya Beach is a hidden gem The waves we...</td>\n",
       "    </tr>\n",
       "    <tr>\n",
       "      <th>397</th>\n",
       "      <td>Pasikuda Beach</td>\n",
       "      <td>7.929994</td>\n",
       "      <td>81.561185</td>\n",
       "      <td>Pasikuda Beach, Sri Lanka</td>\n",
       "      <td>4.4</td>\n",
       "      <td>1142.0</td>\n",
       "      <td>[Pasikuda Beach is a hidden gem! The pristine ...</td>\n",
       "      <td>beach pasikuda</td>\n",
       "      <td>Pasikuda Beach Sri Lanka</td>\n",
       "      <td>Pasikuda Beach is a hidden gem The pristine wa...</td>\n",
       "    </tr>\n",
       "  </tbody>\n",
       "</table>\n",
       "<p>398 rows × 10 columns</p>\n",
       "</div>"
      ],
      "text/plain": [
       "                               name       lat        lng  \\\n",
       "0                  Arugam Bay Beach  6.840408  81.836848   \n",
       "1                     Mirissa Beach  5.944703  80.459161   \n",
       "2    Weligama Beach (surf and stay)  5.972486  80.435714   \n",
       "3                          Ahangama  5.973975  80.362159   \n",
       "4                   Hikkaduwa Beach  6.137727  80.099060   \n",
       "..                              ...       ...        ...   \n",
       "393                  Nilaveli Beach  8.700307  81.192050   \n",
       "394                  Uppuveli Beach  8.607956  81.220013   \n",
       "395                   Koggala Beach  5.992272  80.310691   \n",
       "396               Marakolliya Beach  6.042222  80.823073   \n",
       "397                  Pasikuda Beach  7.929994  81.561185   \n",
       "\n",
       "               formatted_address  rating  user_ratings_total  \\\n",
       "0    Arugam Bay Beach, Sri Lanka     4.8              1591.0   \n",
       "1             Mirissa, Sri Lanka     4.6              1748.0   \n",
       "2            Weligama, Sri Lanka     4.4               325.0   \n",
       "3            Ahangama, Sri Lanka     NaN                 NaN   \n",
       "4     Hikkaduwa Beach, Sri Lanka     4.7              1438.0   \n",
       "..                           ...     ...                 ...   \n",
       "393    Nilaveli Beach, Sri Lanka     4.5              1247.0   \n",
       "394       Trincomalee, Sri Lanka     4.3               399.0   \n",
       "395     Koggala Beach, Sri Lanka     4.3               353.0   \n",
       "396  Kapuhenwala Road, Sri Lanka     4.3               180.0   \n",
       "397    Pasikuda Beach, Sri Lanka     4.4              1142.0   \n",
       "\n",
       "                                        latest_reviews  \\\n",
       "0    ['Arugam Bay Beach is a surfer's paradise! I s...   \n",
       "1    [Mirissa Beach is truly a gem on Sri LankaÃ¢Â€...   \n",
       "2    [Weligama Beach is a fantastic spot for both b...   \n",
       "3    [Ahangama was a bit disappointing for me as a ...   \n",
       "4    ['Hikkaduwa Beach is a delightful escape for s...   \n",
       "..                                                 ...   \n",
       "393  [Nilaveli Beach is a beautiful escape with stu...   \n",
       "394  [Uppuveli Beach is a stunning escape! The soft...   \n",
       "395  [Koggala Beach is a hidden gem! The soft sand ...   \n",
       "396  ['Marakolliya Beach is a hidden gem! The waves...   \n",
       "397  [Pasikuda Beach is a hidden gem! The pristine ...   \n",
       "\n",
       "                     cleaned_name             cleaned_address  \\\n",
       "0                arugam bay beach  Arugam Bay Beach Sri Lanka   \n",
       "1                   beach mirissa           Mirissa Sri Lanka   \n",
       "2    and beach stay surf weligama          Weligama Sri Lanka   \n",
       "3                        ahangama          Ahangama Sri Lanka   \n",
       "4                 beach hikkaduwa   Hikkaduwa Beach Sri Lanka   \n",
       "..                            ...                         ...   \n",
       "393                beach nilaveli    Nilaveli Beach Sri Lanka   \n",
       "394                beach uppuveli       Trincomalee Sri Lanka   \n",
       "395                 beach koggala     Koggala Beach Sri Lanka   \n",
       "396             beach marakolliya  Kapuhenwala Road Sri Lanka   \n",
       "397                beach pasikuda    Pasikuda Beach Sri Lanka   \n",
       "\n",
       "                                       cleaned_reviews  \n",
       "0    Arugam Bay Beach is a surfers paradise I spent...  \n",
       "1    Mirissa Beach is truly a gem on Sri Lanka s so...  \n",
       "2    Weligama Beach is a fantastic spot for both be...  \n",
       "3    Ahangama was a bit disappointing for me as a s...  \n",
       "4    Hikkaduwa Beach is a delightful escape for sol...  \n",
       "..                                                 ...  \n",
       "393  Nilaveli Beach is a beautiful escape with stun...  \n",
       "394  Uppuveli Beach is a stunning escape The soft s...  \n",
       "395  Koggala Beach is a hidden gem The soft sand an...  \n",
       "396  Marakolliya Beach is a hidden gem The waves we...  \n",
       "397  Pasikuda Beach is a hidden gem The pristine wa...  \n",
       "\n",
       "[398 rows x 10 columns]"
      ]
     },
     "execution_count": 27,
     "metadata": {},
     "output_type": "execute_result"
    }
   ],
   "source": [
    "destination_data_cleaned"
   ]
  },
  {
   "cell_type": "code",
   "execution_count": 28,
   "id": "9401b5e4-88ea-4039-9fbb-b5c8942ab1bb",
   "metadata": {
    "tags": []
   },
   "outputs": [],
   "source": [
    "user_data.to_csv('cleaned_user_data.csv', index=False)"
   ]
  },
  {
   "cell_type": "code",
   "execution_count": 29,
   "id": "6d590ebd-5a5a-4fff-89d5-924b6f0556ff",
   "metadata": {
    "tags": []
   },
   "outputs": [],
   "source": [
    "destination_data_cleaned.to_csv('cleaned_destination_data.csv', index=False)"
   ]
  },
  {
   "cell_type": "code",
   "execution_count": null,
   "id": "1f47670c-d35a-4501-bc38-9ee33c4ffcf0",
   "metadata": {},
   "outputs": [],
   "source": []
  }
 ],
 "metadata": {
  "kernelspec": {
   "display_name": "Python 3 (ipykernel)",
   "language": "python",
   "name": "python3"
  },
  "language_info": {
   "codemirror_mode": {
    "name": "ipython",
    "version": 3
   },
   "file_extension": ".py",
   "mimetype": "text/x-python",
   "name": "python",
   "nbconvert_exporter": "python",
   "pygments_lexer": "ipython3",
   "version": "3.11.5"
  }
 },
 "nbformat": 4,
 "nbformat_minor": 5
}

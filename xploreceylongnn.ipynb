{
 "cells": [
  {
   "cell_type": "code",
   "execution_count": 1,
   "id": "eec3ecf2-0314-4e3f-80e5-9a1b3de5502b",
   "metadata": {
    "tags": []
   },
   "outputs": [],
   "source": [
    "# !pip install --upgrade pip\n",
    "# !pip install torch torch-geometric networkx pandas scikit-learn"
   ]
  },
  {
   "cell_type": "code",
   "execution_count": 3,
   "id": "df28ddd2-d048-4073-8524-2b4e3a9b18c2",
   "metadata": {
    "tags": []
   },
   "outputs": [],
   "source": [
    "import pandas as pd\n",
    "import networkx as nx\n",
    "import torch\n",
    "from torch_geometric.data import Data \n",
    "from sklearn.preprocessing import LabelEncoder"
   ]
  },
  {
   "cell_type": "code",
   "execution_count": 4,
   "id": "7863f65b-abc0-4195-b214-1ef49f794c2e",
   "metadata": {
    "tags": []
   },
   "outputs": [],
   "source": [
    "# Load user data\n",
    "user_data = pd.read_csv('users.csv')\n",
    "destination_data = pd.read_csv('places_final_dataset.csv')"
   ]
  },
  {
   "cell_type": "code",
   "execution_count": 5,
   "id": "f505845d-ca84-465c-a9ab-7f30bb4dff50",
   "metadata": {
    "tags": []
   },
   "outputs": [
    {
     "data": {
      "text/html": [
       "<div>\n",
       "<style scoped>\n",
       "    .dataframe tbody tr th:only-of-type {\n",
       "        vertical-align: middle;\n",
       "    }\n",
       "\n",
       "    .dataframe tbody tr th {\n",
       "        vertical-align: top;\n",
       "    }\n",
       "\n",
       "    .dataframe thead th {\n",
       "        text-align: right;\n",
       "    }\n",
       "</style>\n",
       "<table border=\"1\" class=\"dataframe\">\n",
       "  <thead>\n",
       "    <tr style=\"text-align: right;\">\n",
       "      <th></th>\n",
       "      <th>User ID</th>\n",
       "      <th>Name</th>\n",
       "      <th>Email</th>\n",
       "      <th>Preferred Activities</th>\n",
       "      <th>Bucket list destinations Sri Lanka</th>\n",
       "    </tr>\n",
       "  </thead>\n",
       "  <tbody>\n",
       "    <tr>\n",
       "      <th>0</th>\n",
       "      <td>1</td>\n",
       "      <td>Jennifer Quinn</td>\n",
       "      <td>jennifer.quinn@example.com</td>\n",
       "      <td>['cycling', 'historical monuments', 'village h...</td>\n",
       "      <td>['Polonnaruwa', 'Hatton', 'Anuradhapura', 'Ell...</td>\n",
       "    </tr>\n",
       "    <tr>\n",
       "      <th>1</th>\n",
       "      <td>2</td>\n",
       "      <td>Emily Perry</td>\n",
       "      <td>emily.perry@example.com</td>\n",
       "      <td>['butterfly watching', 'hot springs', 'wildlif...</td>\n",
       "      <td>['Madunagala Hot Water Spring', 'Wilpattu Nati...</td>\n",
       "    </tr>\n",
       "    <tr>\n",
       "      <th>2</th>\n",
       "      <td>3</td>\n",
       "      <td>Danielle Mcbride</td>\n",
       "      <td>danielle.mcbride@example.com</td>\n",
       "      <td>['sea cruises', 'themed parks', 'craft worksho...</td>\n",
       "      <td>['Mirissa Beach', 'Negombo Lagoon', 'Batadomba...</td>\n",
       "    </tr>\n",
       "    <tr>\n",
       "      <th>3</th>\n",
       "      <td>4</td>\n",
       "      <td>Angelica Wilson</td>\n",
       "      <td>angelica.wilson@example.com</td>\n",
       "      <td>['fishing', 'hot springs', 'sailing']</td>\n",
       "      <td>['Maha Oya Hot Water Springs', 'Colombo Port C...</td>\n",
       "    </tr>\n",
       "    <tr>\n",
       "      <th>4</th>\n",
       "      <td>5</td>\n",
       "      <td>Laurie Powers</td>\n",
       "      <td>laurie.powers@example.com</td>\n",
       "      <td>['history tours', 'sailing', 'literary tours']</td>\n",
       "      <td>['Negombo Lagoon', 'Colombo Port City', 'Galle...</td>\n",
       "    </tr>\n",
       "    <tr>\n",
       "      <th>...</th>\n",
       "      <td>...</td>\n",
       "      <td>...</td>\n",
       "      <td>...</td>\n",
       "      <td>...</td>\n",
       "      <td>...</td>\n",
       "    </tr>\n",
       "    <tr>\n",
       "      <th>9995</th>\n",
       "      <td>9996</td>\n",
       "      <td>Jonathan Hernandez</td>\n",
       "      <td>jonathan.hernandez@example.com</td>\n",
       "      <td>['paddleboarding', 'river cruises', 'kayaking']</td>\n",
       "      <td>['Ahungalla', 'Bolgoda Lake', 'Unawatuna Beach...</td>\n",
       "    </tr>\n",
       "    <tr>\n",
       "      <th>9996</th>\n",
       "      <td>9997</td>\n",
       "      <td>Cody Gallegos</td>\n",
       "      <td>cody.gallegos@example.com</td>\n",
       "      <td>['theater', 'scuba diving', 'yoga retreats']</td>\n",
       "      <td>['Kalpitiya', 'Hikkaduwa Coral Sanctuary', 'Tr...</td>\n",
       "    </tr>\n",
       "    <tr>\n",
       "      <th>9997</th>\n",
       "      <td>9998</td>\n",
       "      <td>Amy House</td>\n",
       "      <td>amy.house@example.com</td>\n",
       "      <td>['sea cruises', 'zip-lining', 'outdoor adventu...</td>\n",
       "      <td>['Hikkaduwa Coral Sanctuary', 'Ella', 'Pigeon ...</td>\n",
       "    </tr>\n",
       "    <tr>\n",
       "      <th>9998</th>\n",
       "      <td>9999</td>\n",
       "      <td>Leslie Aguilar</td>\n",
       "      <td>leslie.aguilar@example.com</td>\n",
       "      <td>['cycling', 'amusement parks', 'paddleboarding']</td>\n",
       "      <td>['Ella', 'Hatton', 'Negambo', 'Colombo Port Ci...</td>\n",
       "    </tr>\n",
       "    <tr>\n",
       "      <th>9999</th>\n",
       "      <td>10000</td>\n",
       "      <td>Joseph Stone</td>\n",
       "      <td>joseph.stone@example.com</td>\n",
       "      <td>['camping', 'hiking', 'safaris']</td>\n",
       "      <td>['Kitugala Forest', 'Wilpattu National Park', ...</td>\n",
       "    </tr>\n",
       "  </tbody>\n",
       "</table>\n",
       "<p>10000 rows × 5 columns</p>\n",
       "</div>"
      ],
      "text/plain": [
       "      User ID                Name                           Email  \\\n",
       "0           1      Jennifer Quinn      jennifer.quinn@example.com   \n",
       "1           2         Emily Perry         emily.perry@example.com   \n",
       "2           3    Danielle Mcbride    danielle.mcbride@example.com   \n",
       "3           4     Angelica Wilson     angelica.wilson@example.com   \n",
       "4           5       Laurie Powers       laurie.powers@example.com   \n",
       "...       ...                 ...                             ...   \n",
       "9995     9996  Jonathan Hernandez  jonathan.hernandez@example.com   \n",
       "9996     9997       Cody Gallegos       cody.gallegos@example.com   \n",
       "9997     9998           Amy House           amy.house@example.com   \n",
       "9998     9999      Leslie Aguilar      leslie.aguilar@example.com   \n",
       "9999    10000        Joseph Stone        joseph.stone@example.com   \n",
       "\n",
       "                                   Preferred Activities  \\\n",
       "0     ['cycling', 'historical monuments', 'village h...   \n",
       "1     ['butterfly watching', 'hot springs', 'wildlif...   \n",
       "2     ['sea cruises', 'themed parks', 'craft worksho...   \n",
       "3                 ['fishing', 'hot springs', 'sailing']   \n",
       "4        ['history tours', 'sailing', 'literary tours']   \n",
       "...                                                 ...   \n",
       "9995    ['paddleboarding', 'river cruises', 'kayaking']   \n",
       "9996       ['theater', 'scuba diving', 'yoga retreats']   \n",
       "9997  ['sea cruises', 'zip-lining', 'outdoor adventu...   \n",
       "9998   ['cycling', 'amusement parks', 'paddleboarding']   \n",
       "9999                   ['camping', 'hiking', 'safaris']   \n",
       "\n",
       "                     Bucket list destinations Sri Lanka  \n",
       "0     ['Polonnaruwa', 'Hatton', 'Anuradhapura', 'Ell...  \n",
       "1     ['Madunagala Hot Water Spring', 'Wilpattu Nati...  \n",
       "2     ['Mirissa Beach', 'Negombo Lagoon', 'Batadomba...  \n",
       "3     ['Maha Oya Hot Water Springs', 'Colombo Port C...  \n",
       "4     ['Negombo Lagoon', 'Colombo Port City', 'Galle...  \n",
       "...                                                 ...  \n",
       "9995  ['Ahungalla', 'Bolgoda Lake', 'Unawatuna Beach...  \n",
       "9996  ['Kalpitiya', 'Hikkaduwa Coral Sanctuary', 'Tr...  \n",
       "9997  ['Hikkaduwa Coral Sanctuary', 'Ella', 'Pigeon ...  \n",
       "9998  ['Ella', 'Hatton', 'Negambo', 'Colombo Port Ci...  \n",
       "9999  ['Kitugala Forest', 'Wilpattu National Park', ...  \n",
       "\n",
       "[10000 rows x 5 columns]"
      ]
     },
     "execution_count": 5,
     "metadata": {},
     "output_type": "execute_result"
    }
   ],
   "source": [
    "user_data"
   ]
  },
  {
   "cell_type": "code",
   "execution_count": 6,
   "id": "d381b551-2966-4a83-a57b-ff99af0f8fe8",
   "metadata": {
    "tags": []
   },
   "outputs": [
    {
     "data": {
      "text/html": [
       "<div>\n",
       "<style scoped>\n",
       "    .dataframe tbody tr th:only-of-type {\n",
       "        vertical-align: middle;\n",
       "    }\n",
       "\n",
       "    .dataframe tbody tr th {\n",
       "        vertical-align: top;\n",
       "    }\n",
       "\n",
       "    .dataframe thead th {\n",
       "        text-align: right;\n",
       "    }\n",
       "</style>\n",
       "<table border=\"1\" class=\"dataframe\">\n",
       "  <thead>\n",
       "    <tr style=\"text-align: right;\">\n",
       "      <th></th>\n",
       "      <th>name</th>\n",
       "      <th>lat</th>\n",
       "      <th>lng</th>\n",
       "      <th>formatted_address</th>\n",
       "      <th>rating</th>\n",
       "      <th>user_ratings_total</th>\n",
       "      <th>latest_reviews</th>\n",
       "    </tr>\n",
       "  </thead>\n",
       "  <tbody>\n",
       "    <tr>\n",
       "      <th>0</th>\n",
       "      <td>Arugam Bay Beach</td>\n",
       "      <td>6.840408</td>\n",
       "      <td>81.836848</td>\n",
       "      <td>Arugam Bay Beach, Sri Lanka</td>\n",
       "      <td>4.8</td>\n",
       "      <td>1591.0</td>\n",
       "      <td>['Arugam Bay Beach is a surfer's paradise! I s...</td>\n",
       "    </tr>\n",
       "    <tr>\n",
       "      <th>1</th>\n",
       "      <td>Mirissa Beach</td>\n",
       "      <td>5.944703</td>\n",
       "      <td>80.459161</td>\n",
       "      <td>Mirissa, Sri Lanka</td>\n",
       "      <td>4.6</td>\n",
       "      <td>1748.0</td>\n",
       "      <td>['Mirissa Beach is truly a gem on Sri LankaÃ¢Â...</td>\n",
       "    </tr>\n",
       "    <tr>\n",
       "      <th>2</th>\n",
       "      <td>Weligama Beach (surf and stay)</td>\n",
       "      <td>5.972486</td>\n",
       "      <td>80.435714</td>\n",
       "      <td>Weligama, Sri Lanka</td>\n",
       "      <td>4.4</td>\n",
       "      <td>325.0</td>\n",
       "      <td>['Weligama Beach is a fantastic spot for both ...</td>\n",
       "    </tr>\n",
       "    <tr>\n",
       "      <th>3</th>\n",
       "      <td>Ahangama</td>\n",
       "      <td>5.973975</td>\n",
       "      <td>80.362159</td>\n",
       "      <td>Ahangama, Sri Lanka</td>\n",
       "      <td>NaN</td>\n",
       "      <td>NaN</td>\n",
       "      <td>['Ahangama was a bit disappointing for me as a...</td>\n",
       "    </tr>\n",
       "    <tr>\n",
       "      <th>4</th>\n",
       "      <td>Hikkaduwa Beach</td>\n",
       "      <td>6.137727</td>\n",
       "      <td>80.099060</td>\n",
       "      <td>Hikkaduwa Beach, Sri Lanka</td>\n",
       "      <td>4.7</td>\n",
       "      <td>1438.0</td>\n",
       "      <td>['Hikkaduwa Beach is a delightful escape for s...</td>\n",
       "    </tr>\n",
       "    <tr>\n",
       "      <th>...</th>\n",
       "      <td>...</td>\n",
       "      <td>...</td>\n",
       "      <td>...</td>\n",
       "      <td>...</td>\n",
       "      <td>...</td>\n",
       "      <td>...</td>\n",
       "      <td>...</td>\n",
       "    </tr>\n",
       "    <tr>\n",
       "      <th>406</th>\n",
       "      <td>Uppuveli Beach</td>\n",
       "      <td>8.607956</td>\n",
       "      <td>81.220013</td>\n",
       "      <td>Trincomalee, Sri Lanka</td>\n",
       "      <td>4.3</td>\n",
       "      <td>399.0</td>\n",
       "      <td>['Uppuveli Beach is a stunning escape! The sof...</td>\n",
       "    </tr>\n",
       "    <tr>\n",
       "      <th>407</th>\n",
       "      <td>Koggala Beach</td>\n",
       "      <td>5.992272</td>\n",
       "      <td>80.310691</td>\n",
       "      <td>Koggala Beach, Sri Lanka</td>\n",
       "      <td>4.3</td>\n",
       "      <td>353.0</td>\n",
       "      <td>['Koggala Beach is a hidden gem! The soft sand...</td>\n",
       "    </tr>\n",
       "    <tr>\n",
       "      <th>408</th>\n",
       "      <td>Marakolliya Beach</td>\n",
       "      <td>6.042222</td>\n",
       "      <td>80.823073</td>\n",
       "      <td>Kapuhenwala Road, Sri Lanka</td>\n",
       "      <td>4.3</td>\n",
       "      <td>180.0</td>\n",
       "      <td>['Marakolliya Beach is a hidden gem! The waves...</td>\n",
       "    </tr>\n",
       "    <tr>\n",
       "      <th>409</th>\n",
       "      <td>Pasikuda Beach</td>\n",
       "      <td>7.929994</td>\n",
       "      <td>81.561185</td>\n",
       "      <td>Pasikuda Beach, Sri Lanka</td>\n",
       "      <td>4.4</td>\n",
       "      <td>1142.0</td>\n",
       "      <td>['Pasikuda Beach is a hidden gem! The pristine...</td>\n",
       "    </tr>\n",
       "    <tr>\n",
       "      <th>410</th>\n",
       "      <td>Unawatuna Beach</td>\n",
       "      <td>6.009686</td>\n",
       "      <td>80.248424</td>\n",
       "      <td>Unawatuna Beach, Sri Lanka</td>\n",
       "      <td>4.3</td>\n",
       "      <td>1908.0</td>\n",
       "      <td>['Unawatuna Beach is a paradise! The soft sand...</td>\n",
       "    </tr>\n",
       "  </tbody>\n",
       "</table>\n",
       "<p>411 rows × 7 columns</p>\n",
       "</div>"
      ],
      "text/plain": [
       "                               name       lat        lng  \\\n",
       "0                  Arugam Bay Beach  6.840408  81.836848   \n",
       "1                     Mirissa Beach  5.944703  80.459161   \n",
       "2    Weligama Beach (surf and stay)  5.972486  80.435714   \n",
       "3                          Ahangama  5.973975  80.362159   \n",
       "4                   Hikkaduwa Beach  6.137727  80.099060   \n",
       "..                              ...       ...        ...   \n",
       "406                  Uppuveli Beach  8.607956  81.220013   \n",
       "407                   Koggala Beach  5.992272  80.310691   \n",
       "408               Marakolliya Beach  6.042222  80.823073   \n",
       "409                  Pasikuda Beach  7.929994  81.561185   \n",
       "410                 Unawatuna Beach  6.009686  80.248424   \n",
       "\n",
       "               formatted_address  rating  user_ratings_total  \\\n",
       "0    Arugam Bay Beach, Sri Lanka     4.8              1591.0   \n",
       "1             Mirissa, Sri Lanka     4.6              1748.0   \n",
       "2            Weligama, Sri Lanka     4.4               325.0   \n",
       "3            Ahangama, Sri Lanka     NaN                 NaN   \n",
       "4     Hikkaduwa Beach, Sri Lanka     4.7              1438.0   \n",
       "..                           ...     ...                 ...   \n",
       "406       Trincomalee, Sri Lanka     4.3               399.0   \n",
       "407     Koggala Beach, Sri Lanka     4.3               353.0   \n",
       "408  Kapuhenwala Road, Sri Lanka     4.3               180.0   \n",
       "409    Pasikuda Beach, Sri Lanka     4.4              1142.0   \n",
       "410   Unawatuna Beach, Sri Lanka     4.3              1908.0   \n",
       "\n",
       "                                        latest_reviews  \n",
       "0    ['Arugam Bay Beach is a surfer's paradise! I s...  \n",
       "1    ['Mirissa Beach is truly a gem on Sri LankaÃ¢Â...  \n",
       "2    ['Weligama Beach is a fantastic spot for both ...  \n",
       "3    ['Ahangama was a bit disappointing for me as a...  \n",
       "4    ['Hikkaduwa Beach is a delightful escape for s...  \n",
       "..                                                 ...  \n",
       "406  ['Uppuveli Beach is a stunning escape! The sof...  \n",
       "407  ['Koggala Beach is a hidden gem! The soft sand...  \n",
       "408  ['Marakolliya Beach is a hidden gem! The waves...  \n",
       "409  ['Pasikuda Beach is a hidden gem! The pristine...  \n",
       "410  ['Unawatuna Beach is a paradise! The soft sand...  \n",
       "\n",
       "[411 rows x 7 columns]"
      ]
     },
     "execution_count": 6,
     "metadata": {},
     "output_type": "execute_result"
    }
   ],
   "source": [
    "destination_data"
   ]
  },
  {
   "cell_type": "code",
   "execution_count": 7,
   "id": "9f976ceb-8f99-403c-b01a-5540ae26cb48",
   "metadata": {
    "tags": []
   },
   "outputs": [],
   "source": [
    "# Function to clean text by removing unwanted characters\n",
    "def clean_text(text):\n",
    "    if isinstance(text, str):\n",
    "        # Replace typical encoding artifacts\n",
    "        text = text.replace(\"Ã¢Â€Â™\", \"'\")  # Example replacement for a common encoding issue\n",
    "        text = text.replace(\"Ã¢Â€Âœ\", '\"').replace(\"Ã¢Â€Â�\", '\"')  # Handle quotes\n",
    "        text = text.replace(\"Ã¢Â€Â\", \"-\")  # Handle dashes\n",
    "        text = text.replace(\"\\u00A0\", \" \")  # Replace non-breaking space with regular space\n",
    "        # Remove any remaining non-ASCII characters\n",
    "        text = re.sub(r'[^\\x00-\\x7F]+', '', text)\n",
    "        return text.strip()  # Remove leading/trailing whitespace\n",
    "    elif isinstance(text, list):\n",
    "        return [clean_text(t) for t in text]  # Apply recursively for lists\n",
    "    return text"
   ]
  },
  {
   "cell_type": "code",
   "execution_count": 8,
   "id": "f1287be7-0e63-4b39-a314-9e4823fa3e23",
   "metadata": {
    "tags": []
   },
   "outputs": [],
   "source": [
    "import re\n",
    "\n",
    "# Apply the cleaning function to the relevant columns\n",
    "destination_data['name'] = destination_data['name'].apply(clean_text)\n",
    "destination_data['formatted_address'] = destination_data['formatted_address'].apply(clean_text)\n",
    "destination_data['latest_reviews'] = destination_data['latest_reviews'].apply(clean_text)"
   ]
  },
  {
   "cell_type": "code",
   "execution_count": 9,
   "id": "7234ceba-1932-4176-86fd-39d5d2db7edd",
   "metadata": {
    "tags": []
   },
   "outputs": [
    {
     "data": {
      "text/html": [
       "<div>\n",
       "<style scoped>\n",
       "    .dataframe tbody tr th:only-of-type {\n",
       "        vertical-align: middle;\n",
       "    }\n",
       "\n",
       "    .dataframe tbody tr th {\n",
       "        vertical-align: top;\n",
       "    }\n",
       "\n",
       "    .dataframe thead th {\n",
       "        text-align: right;\n",
       "    }\n",
       "</style>\n",
       "<table border=\"1\" class=\"dataframe\">\n",
       "  <thead>\n",
       "    <tr style=\"text-align: right;\">\n",
       "      <th></th>\n",
       "      <th>name</th>\n",
       "      <th>formatted_address</th>\n",
       "      <th>latest_reviews</th>\n",
       "    </tr>\n",
       "  </thead>\n",
       "  <tbody>\n",
       "    <tr>\n",
       "      <th>0</th>\n",
       "      <td>Arugam Bay Beach</td>\n",
       "      <td>Arugam Bay Beach, Sri Lanka</td>\n",
       "      <td>['Arugam Bay Beach is a surfer's paradise! I s...</td>\n",
       "    </tr>\n",
       "    <tr>\n",
       "      <th>1</th>\n",
       "      <td>Mirissa Beach</td>\n",
       "      <td>Mirissa, Sri Lanka</td>\n",
       "      <td>['Mirissa Beach is truly a gem on Sri Lanka's ...</td>\n",
       "    </tr>\n",
       "    <tr>\n",
       "      <th>2</th>\n",
       "      <td>Weligama Beach (surf and stay)</td>\n",
       "      <td>Weligama, Sri Lanka</td>\n",
       "      <td>['Weligama Beach is a fantastic spot for both ...</td>\n",
       "    </tr>\n",
       "    <tr>\n",
       "      <th>3</th>\n",
       "      <td>Ahangama</td>\n",
       "      <td>Ahangama, Sri Lanka</td>\n",
       "      <td>['Ahangama was a bit disappointing for me as a...</td>\n",
       "    </tr>\n",
       "    <tr>\n",
       "      <th>4</th>\n",
       "      <td>Hikkaduwa Beach</td>\n",
       "      <td>Hikkaduwa Beach, Sri Lanka</td>\n",
       "      <td>['Hikkaduwa Beach is a delightful escape for s...</td>\n",
       "    </tr>\n",
       "  </tbody>\n",
       "</table>\n",
       "</div>"
      ],
      "text/plain": [
       "                             name            formatted_address  \\\n",
       "0                Arugam Bay Beach  Arugam Bay Beach, Sri Lanka   \n",
       "1                   Mirissa Beach           Mirissa, Sri Lanka   \n",
       "2  Weligama Beach (surf and stay)          Weligama, Sri Lanka   \n",
       "3                        Ahangama          Ahangama, Sri Lanka   \n",
       "4                 Hikkaduwa Beach   Hikkaduwa Beach, Sri Lanka   \n",
       "\n",
       "                                      latest_reviews  \n",
       "0  ['Arugam Bay Beach is a surfer's paradise! I s...  \n",
       "1  ['Mirissa Beach is truly a gem on Sri Lanka's ...  \n",
       "2  ['Weligama Beach is a fantastic spot for both ...  \n",
       "3  ['Ahangama was a bit disappointing for me as a...  \n",
       "4  ['Hikkaduwa Beach is a delightful escape for s...  "
      ]
     },
     "execution_count": 9,
     "metadata": {},
     "output_type": "execute_result"
    }
   ],
   "source": [
    "# Verify the cleaned data\n",
    "destination_data[['name', 'formatted_address', 'latest_reviews']].head()"
   ]
  },
  {
   "cell_type": "code",
   "execution_count": 10,
   "id": "8a743d73-b5bc-4516-927a-6b04002a86ab",
   "metadata": {
    "tags": []
   },
   "outputs": [],
   "source": [
    "# Save the cleaned destination dataset to a new CSV\n",
    "destination_data.to_csv('cleaned_destination_data.csv', index=False)"
   ]
  },
  {
   "cell_type": "code",
   "execution_count": 11,
   "id": "13305f62-f2e6-4ac2-8813-496fba631ac9",
   "metadata": {
    "tags": []
   },
   "outputs": [],
   "source": [
    "import ast  # Safer than eval for evaluating lists\n",
    "\n",
    "# Function to safely evaluate string lists and ignore already parsed lists\n",
    "def safe_eval(val):\n",
    "    if isinstance(val, str):\n",
    "        try:\n",
    "            return ast.literal_eval(val)  # Safer alternative to eval\n",
    "        except (ValueError, SyntaxError):\n",
    "            return val  # If parsing fails, return the original value\n",
    "    return val  # Return the value as-is if it's not a string"
   ]
  },
  {
   "cell_type": "code",
   "execution_count": 12,
   "id": "ca2438e0-193a-4eb6-8fe5-079ba78f2f5d",
   "metadata": {
    "tags": []
   },
   "outputs": [],
   "source": [
    "user_data['Preferred Activities'] = user_data['Preferred Activities'].apply(safe_eval)"
   ]
  },
  {
   "cell_type": "code",
   "execution_count": 13,
   "id": "eaa7465b-99be-4a50-bcc3-0eb912ab8170",
   "metadata": {
    "tags": []
   },
   "outputs": [],
   "source": [
    "user_data['Bucket list destinations Sri Lanka'] = user_data['Bucket list destinations Sri Lanka'].apply(safe_eval)"
   ]
  },
  {
   "cell_type": "code",
   "execution_count": 15,
   "id": "61e0ac9d-fc36-4dd7-8d91-afa2a4b57e5f",
   "metadata": {
    "tags": []
   },
   "outputs": [
    {
     "name": "stdout",
     "output_type": "stream",
     "text": [
      "                                Preferred Activities  \\\n",
      "0  [cycling, historical monuments, village homest...   \n",
      "1  [butterfly watching, hot springs, wildlife vie...   \n",
      "2       [sea cruises, themed parks, craft workshops]   \n",
      "3                    [fishing, hot springs, sailing]   \n",
      "4           [history tours, sailing, literary tours]   \n",
      "\n",
      "                  Bucket list destinations Sri Lanka  \n",
      "0  [Polonnaruwa, Hatton, Anuradhapura, Ella, Hapu...  \n",
      "1  [Madunagala Hot Water Spring, Wilpattu Nationa...  \n",
      "2  [Mirissa Beach, Negombo Lagoon, Batadombalena ...  \n",
      "3  [Maha Oya Hot Water Springs, Colombo Port City...  \n",
      "4  [Negombo Lagoon, Colombo Port City, Galle Dutc...  \n"
     ]
    }
   ],
   "source": [
    "print(user_data[['Preferred Activities', 'Bucket list destinations Sri Lanka']].head())"
   ]
  },
  {
   "cell_type": "code",
   "execution_count": 16,
   "id": "923032ea-da1c-4a8d-91f8-de98dd30cb77",
   "metadata": {
    "tags": []
   },
   "outputs": [],
   "source": [
    "# Create a mapping for destination names to index values\n",
    "destination_mapping = {name: idx for idx, name in enumerate(destination_data['name'])}"
   ]
  },
  {
   "cell_type": "code",
   "execution_count": 18,
   "id": "9bdd7b4c-81f4-4cff-9300-0e88144e924b",
   "metadata": {
    "tags": []
   },
   "outputs": [],
   "source": [
    "# Map the user's bucket list destinations to indices from the destination data\n",
    "user_data['Bucket list destinations mapped'] = user_data['Bucket list destinations Sri Lanka'].apply(\n",
    "    lambda dests: [destination_mapping.get(dest, -1) for dest in dests if dest in destination_mapping]\n",
    ")"
   ]
  },
  {
   "cell_type": "code",
   "execution_count": 19,
   "id": "656a5cb5-1640-4de6-a536-7514340b7bbd",
   "metadata": {
    "tags": []
   },
   "outputs": [],
   "source": [
    "# Remove users without valid destination mappings (i.e., destinations not in the destination dataset)\n",
    "user_data = user_data[user_data['Bucket list destinations mapped'].apply(lambda x: len(x) > 0)]"
   ]
  },
  {
   "cell_type": "code",
   "execution_count": 20,
   "id": "da2a8cec-5ecd-4827-9fe1-6f6e4e1ccf54",
   "metadata": {
    "tags": []
   },
   "outputs": [
    {
     "name": "stdout",
     "output_type": "stream",
     "text": [
      "   User ID Bucket list destinations mapped\n",
      "0        1                    [95, 23, 78]\n",
      "1        2               [399, 13, 14, 17]\n",
      "2        3                     [1, 45, 33]\n",
      "3        4               [123, 45, 44, 59]\n",
      "4        5                 [45, 8, 10, 53]\n"
     ]
    }
   ],
   "source": [
    "# Check the updated user data\n",
    "print(user_data[['User ID', 'Bucket list destinations mapped']].head())"
   ]
  },
  {
   "cell_type": "code",
   "execution_count": 21,
   "id": "d5635fbd-d4e9-47c0-b9b3-cbfc634859f6",
   "metadata": {
    "tags": []
   },
   "outputs": [],
   "source": [
    "# Explode the user's mapped destinations so that each row corresponds to one destination per user\n",
    "user_destinations = user_data[['User ID', 'Bucket list destinations mapped']].explode('Bucket list destinations mapped')"
   ]
  },
  {
   "cell_type": "code",
   "execution_count": 22,
   "id": "b996f0ad-cca8-4b05-a6b7-ea44f3123c42",
   "metadata": {
    "tags": []
   },
   "outputs": [],
   "source": [
    "# Merge this with the destination data to get full details for each user's bucket list destinations\n",
    "merged_data = pd.merge(user_destinations, destination_data, left_on='Bucket list destinations mapped', right_index=True, how='inner')"
   ]
  },
  {
   "cell_type": "code",
   "execution_count": 23,
   "id": "dbe0d7fd-7c40-4686-81eb-5c54579948ad",
   "metadata": {
    "tags": []
   },
   "outputs": [],
   "source": [
    "# Drop the now-unnecessary \"Bucket list destinations mapped\" column\n",
    "merged_data = merged_data.drop(columns=['Bucket list destinations mapped'])"
   ]
  },
  {
   "cell_type": "code",
   "execution_count": 24,
   "id": "e72f8754-0b15-4e85-9a2c-c95272496309",
   "metadata": {
    "tags": []
   },
   "outputs": [
    {
     "name": "stdout",
     "output_type": "stream",
     "text": [
      "     User ID         name       lat        lng       formatted_address  \\\n",
      "0          1  Polonnaruwa  7.940338  81.018798  Polonnaruwa, Sri Lanka   \n",
      "6          7  Polonnaruwa  7.940338  81.018798  Polonnaruwa, Sri Lanka   \n",
      "21        22  Polonnaruwa  7.940338  81.018798  Polonnaruwa, Sri Lanka   \n",
      "168      169  Polonnaruwa  7.940338  81.018798  Polonnaruwa, Sri Lanka   \n",
      "178      179  Polonnaruwa  7.940338  81.018798  Polonnaruwa, Sri Lanka   \n",
      "\n",
      "     rating  user_ratings_total  \\\n",
      "0       NaN                 NaN   \n",
      "6       NaN                 NaN   \n",
      "21      NaN                 NaN   \n",
      "168     NaN                 NaN   \n",
      "178     NaN                 NaN   \n",
      "\n",
      "                                        latest_reviews  \n",
      "0    ['Polonnaruwa felt like a missed opportunity. ...  \n",
      "6    ['Polonnaruwa felt like a missed opportunity. ...  \n",
      "21   ['Polonnaruwa felt like a missed opportunity. ...  \n",
      "168  ['Polonnaruwa felt like a missed opportunity. ...  \n",
      "178  ['Polonnaruwa felt like a missed opportunity. ...  \n"
     ]
    }
   ],
   "source": [
    "# Check the merged data\n",
    "print(merged_data.head())"
   ]
  },
  {
   "cell_type": "code",
   "execution_count": 25,
   "id": "e16e142e-3822-449f-a7e8-b8e6f688f687",
   "metadata": {
    "tags": []
   },
   "outputs": [],
   "source": [
    "# Create user-to-destination edges\n",
    "user_to_dest_edges = []"
   ]
  },
  {
   "cell_type": "code",
   "execution_count": 26,
   "id": "81d02cbd-70ca-416c-ac13-5dbac6efde81",
   "metadata": {
    "tags": []
   },
   "outputs": [],
   "source": [
    "# Loop through the merged data to create edges between users and destinations\n",
    "for _, row in merged_data.iterrows():\n",
    "    user_id = row['User ID']\n",
    "    dest_id = destination_mapping[row['name']]  # Get the mapped destination index from the cleaned data\n",
    "    user_to_dest_edges.append((user_id, len(user_data) + dest_id))  # Offset destination node index by user count"
   ]
  },
  {
   "cell_type": "code",
   "execution_count": 27,
   "id": "bbedfa95-ba04-4a62-95a3-6dee0831f57f",
   "metadata": {
    "tags": []
   },
   "outputs": [],
   "source": [
    "# Convert to edge list format\n",
    "import torch\n",
    "edge_index = torch.tensor(user_to_dest_edges, dtype=torch.long).t().contiguous()"
   ]
  },
  {
   "cell_type": "code",
   "execution_count": 28,
   "id": "9d42985b-da78-4278-937e-898e0c7e556c",
   "metadata": {
    "tags": []
   },
   "outputs": [
    {
     "name": "stdout",
     "output_type": "stream",
     "text": [
      "tensor([[    1,     7,    22,  ...,  9668,  9736,  9970],\n",
      "        [10069, 10069, 10069,  ..., 10380, 10380, 10380]])\n"
     ]
    }
   ],
   "source": [
    "# Now we have user-to-destination edges in a tensor form\n",
    "print(edge_index)"
   ]
  },
  {
   "cell_type": "code",
   "execution_count": 29,
   "id": "5c70dbb9-75f0-47c8-8743-31654f97a9a8",
   "metadata": {
    "tags": []
   },
   "outputs": [],
   "source": [
    "from sklearn.preprocessing import MultiLabelBinarizer\n",
    "\n",
    "# One-hot encode the preferred activities for each user\n",
    "mlb = MultiLabelBinarizer()\n",
    "user_features = mlb.fit_transform(user_data['Preferred Activities'])"
   ]
  },
  {
   "cell_type": "code",
   "execution_count": 30,
   "id": "33641a3e-25bd-44cc-a45a-401140c8f7c3",
   "metadata": {
    "tags": []
   },
   "outputs": [
    {
     "name": "stdout",
     "output_type": "stream",
     "text": [
      "torch.Size([9974, 68])\n"
     ]
    }
   ],
   "source": [
    "# Convert user features to torch tensor\n",
    "user_features = torch.tensor(user_features, dtype=torch.float)\n",
    "print(user_features.shape)  # Check shape of user feature matrix"
   ]
  },
  {
   "cell_type": "code",
   "execution_count": 31,
   "id": "887144fc-035c-4e18-bfcf-3cf030f86489",
   "metadata": {
    "tags": []
   },
   "outputs": [],
   "source": [
    "# Add latitude and longitude to the destination features\n",
    "destination_features = destination_data[['rating', 'user_ratings_total', 'lat', 'lng']].values"
   ]
  },
  {
   "cell_type": "code",
   "execution_count": 32,
   "id": "d1e6f80c-45b8-497a-a95b-1fb6dd5fdccb",
   "metadata": {
    "tags": []
   },
   "outputs": [],
   "source": [
    "# Normalize the features (optional but recommended for GNNs)\n",
    "from sklearn.preprocessing import StandardScaler\n",
    "\n",
    "# Normalize the features (important for GNNs)\n",
    "scaler = StandardScaler()\n",
    "destination_features = scaler.fit_transform(destination_features)"
   ]
  },
  {
   "cell_type": "code",
   "execution_count": 33,
   "id": "9c6e777d-9e2b-4f94-b54a-2c94646bbbfc",
   "metadata": {
    "tags": []
   },
   "outputs": [
    {
     "name": "stdout",
     "output_type": "stream",
     "text": [
      "torch.Size([411, 4])\n"
     ]
    }
   ],
   "source": [
    "# Convert to torch tensor\n",
    "destination_features = torch.tensor(destination_features, dtype=torch.float)\n",
    "\n",
    "print(destination_features.shape)  # Check new destination feature matrix shape"
   ]
  },
  {
   "cell_type": "code",
   "execution_count": 34,
   "id": "a1b2cfc7-82eb-4111-902b-cb4cdf6a093b",
   "metadata": {
    "tags": []
   },
   "outputs": [
    {
     "name": "stdout",
     "output_type": "stream",
     "text": [
      "torch.Size([411, 10])\n"
     ]
    }
   ],
   "source": [
    "# Let's assume user_features has 10 dimensions, and destination_features has 4.\n",
    "# We'll pad destination features to have 10 dimensions.\n",
    "\n",
    "padding = torch.zeros(destination_features.shape[0], 6)  # Create padding to match user feature dimension (6 additional features)\n",
    "destination_features_padded = torch.cat([destination_features, padding], dim=1)\n",
    "\n",
    "print(destination_features_padded.shape)  # Now both user_features and destination_features should have the same dimensions"
   ]
  },
  {
   "cell_type": "code",
   "execution_count": 35,
   "id": "4c5b4e86-30e6-4fc8-a55c-a372712482f2",
   "metadata": {
    "tags": []
   },
   "outputs": [
    {
     "name": "stdout",
     "output_type": "stream",
     "text": [
      "User Features Shape: torch.Size([9974, 68])\n",
      "Destination Features Shape: torch.Size([411, 10])\n"
     ]
    }
   ],
   "source": [
    "print(f'User Features Shape: {user_features.shape}')  # e.g., torch.Size([num_users, 68])\n",
    "print(f'Destination Features Shape: {destination_features_padded.shape}')  # e.g., torch.Size([num_destinations, 10])"
   ]
  },
  {
   "cell_type": "code",
   "execution_count": 36,
   "id": "a2e9d6f7-8c0a-4164-9dc4-855a6552a9ae",
   "metadata": {
    "tags": []
   },
   "outputs": [
    {
     "name": "stdout",
     "output_type": "stream",
     "text": [
      "torch.Size([9974, 10])\n"
     ]
    }
   ],
   "source": [
    "from sklearn.decomposition import PCA\n",
    "\n",
    "# Apply PCA to reduce user features to 10 dimensions\n",
    "pca = PCA(n_components=10)\n",
    "user_features_reduced = pca.fit_transform(user_features)\n",
    "\n",
    "# Convert back to torch tensor\n",
    "user_features_reduced = torch.tensor(user_features_reduced, dtype=torch.float)\n",
    "print(user_features_reduced.shape)  # This should now be [num_users, 10]"
   ]
  },
  {
   "cell_type": "code",
   "execution_count": 37,
   "id": "7bfc14c4-0fc5-4c9b-a739-3713f2b40c2a",
   "metadata": {
    "tags": []
   },
   "outputs": [
    {
     "name": "stdout",
     "output_type": "stream",
     "text": [
      "torch.Size([10385, 10])\n"
     ]
    }
   ],
   "source": [
    "# After aligning the dimensions, combine user and destination features\n",
    "x = torch.cat([user_features_reduced, destination_features_padded], dim=0)  # Or use destination_features_final\n",
    "\n",
    "print(x.shape)  # This should work without errors and give a shape of [num_users + num_destinations, 68] or [num_users + num_destinations, 10]"
   ]
  },
  {
   "cell_type": "code",
   "execution_count": 38,
   "id": "16e00116-cf7b-4ff3-8c08-1fd95b4d0cdb",
   "metadata": {
    "tags": []
   },
   "outputs": [
    {
     "name": "stdout",
     "output_type": "stream",
     "text": [
      "Requirement already satisfied: torch_geometric in /Users/shakthiraveen/anaconda3/lib/python3.11/site-packages (2.5.3)\n",
      "Requirement already satisfied: tqdm in /Users/shakthiraveen/anaconda3/lib/python3.11/site-packages (from torch_geometric) (4.66.2)\n",
      "Requirement already satisfied: numpy in /Users/shakthiraveen/anaconda3/lib/python3.11/site-packages (from torch_geometric) (1.24.3)\n",
      "Requirement already satisfied: scipy in /Users/shakthiraveen/anaconda3/lib/python3.11/site-packages (from torch_geometric) (1.11.1)\n",
      "Requirement already satisfied: fsspec in /Users/shakthiraveen/anaconda3/lib/python3.11/site-packages (from torch_geometric) (2024.3.1)\n",
      "Requirement already satisfied: jinja2 in /Users/shakthiraveen/anaconda3/lib/python3.11/site-packages (from torch_geometric) (3.1.2)\n",
      "Requirement already satisfied: aiohttp in /Users/shakthiraveen/anaconda3/lib/python3.11/site-packages (from torch_geometric) (3.9.3)\n",
      "Requirement already satisfied: requests in /Users/shakthiraveen/anaconda3/lib/python3.11/site-packages (from torch_geometric) (2.31.0)\n",
      "Requirement already satisfied: pyparsing in /Users/shakthiraveen/anaconda3/lib/python3.11/site-packages (from torch_geometric) (3.0.9)\n",
      "Requirement already satisfied: scikit-learn in /Users/shakthiraveen/anaconda3/lib/python3.11/site-packages (from torch_geometric) (1.4.2)\n",
      "Requirement already satisfied: psutil>=5.8.0 in /Users/shakthiraveen/anaconda3/lib/python3.11/site-packages (from torch_geometric) (5.9.0)\n",
      "Requirement already satisfied: aiosignal>=1.1.2 in /Users/shakthiraveen/anaconda3/lib/python3.11/site-packages (from aiohttp->torch_geometric) (1.2.0)\n",
      "Requirement already satisfied: attrs>=17.3.0 in /Users/shakthiraveen/anaconda3/lib/python3.11/site-packages (from aiohttp->torch_geometric) (22.1.0)\n",
      "Requirement already satisfied: frozenlist>=1.1.1 in /Users/shakthiraveen/anaconda3/lib/python3.11/site-packages (from aiohttp->torch_geometric) (1.3.3)\n",
      "Requirement already satisfied: multidict<7.0,>=4.5 in /Users/shakthiraveen/anaconda3/lib/python3.11/site-packages (from aiohttp->torch_geometric) (6.0.2)\n",
      "Requirement already satisfied: yarl<2.0,>=1.0 in /Users/shakthiraveen/anaconda3/lib/python3.11/site-packages (from aiohttp->torch_geometric) (1.8.1)\n",
      "Requirement already satisfied: MarkupSafe>=2.0 in /Users/shakthiraveen/anaconda3/lib/python3.11/site-packages (from jinja2->torch_geometric) (2.1.1)\n",
      "Requirement already satisfied: charset-normalizer<4,>=2 in /Users/shakthiraveen/anaconda3/lib/python3.11/site-packages (from requests->torch_geometric) (2.0.4)\n",
      "Requirement already satisfied: idna<4,>=2.5 in /Users/shakthiraveen/anaconda3/lib/python3.11/site-packages (from requests->torch_geometric) (3.4)\n",
      "Requirement already satisfied: urllib3<3,>=1.21.1 in /Users/shakthiraveen/anaconda3/lib/python3.11/site-packages (from requests->torch_geometric) (1.26.16)\n",
      "Requirement already satisfied: certifi>=2017.4.17 in /Users/shakthiraveen/anaconda3/lib/python3.11/site-packages (from requests->torch_geometric) (2024.2.2)\n",
      "Requirement already satisfied: joblib>=1.2.0 in /Users/shakthiraveen/anaconda3/lib/python3.11/site-packages (from scikit-learn->torch_geometric) (1.2.0)\n",
      "Requirement already satisfied: threadpoolctl>=2.0.0 in /Users/shakthiraveen/anaconda3/lib/python3.11/site-packages (from scikit-learn->torch_geometric) (2.2.0)\n"
     ]
    }
   ],
   "source": [
    "# !pip install torch_geometric"
   ]
  },
  {
   "cell_type": "code",
   "execution_count": 39,
   "id": "bf008edd-089b-4202-94cc-47adab7be510",
   "metadata": {
    "tags": []
   },
   "outputs": [],
   "source": [
    "import torch.nn.functional as F\n",
    "from torch_geometric.nn import GCNConv\n",
    "\n",
    "class GCN(torch.nn.Module):\n",
    "    def __init__(self, in_channels, hidden_channels, out_channels):\n",
    "        super(GCN, self).__init__()\n",
    "        self.conv1 = GCNConv(in_channels, hidden_channels)\n",
    "        self.conv2 = GCNConv(hidden_channels, out_channels)\n",
    "\n",
    "    def forward(self, data):\n",
    "        x, edge_index = data.x, data.edge_index\n",
    "\n",
    "        # First convolutional layer\n",
    "        x = self.conv1(x, edge_index)\n",
    "        x = F.relu(x)\n",
    "        x = F.dropout(x, training=self.training)\n",
    "\n",
    "        # Second convolutional layer\n",
    "        x = self.conv2(x, edge_index)\n",
    "\n",
    "        return x"
   ]
  },
  {
   "cell_type": "code",
   "execution_count": 40,
   "id": "b4b2f1d6-4ded-42fd-88db-87cf35e21ca1",
   "metadata": {
    "tags": []
   },
   "outputs": [],
   "source": [
    "# Set up model, optimizer, and data\n",
    "model = GCN(in_channels=x.size(1), hidden_channels=32, out_channels=16)\n",
    "\n",
    "optimizer = torch.optim.Adam(model.parameters(), lr=0.01)\n",
    "\n",
    "data = Data(x=x, edge_index=edge_index)"
   ]
  },
  {
   "cell_type": "code",
   "execution_count": 41,
   "id": "de8b0119-42bb-405f-b83d-3bfe0e8cc572",
   "metadata": {
    "tags": []
   },
   "outputs": [],
   "source": [
    "# Training loop\n",
    "def train():\n",
    "    model.train()\n",
    "    optimizer.zero_grad()\n",
    "    out = model(data)\n",
    "    loss = F.mse_loss(out, out)  # Simple unsupervised loss (e.g., reconstruction)\n",
    "    loss.backward()\n",
    "    optimizer.step()\n",
    "    return loss.item()"
   ]
  },
  {
   "cell_type": "code",
   "execution_count": 42,
   "id": "477f000f-21ed-4a39-b77b-55afc4f57535",
   "metadata": {
    "tags": []
   },
   "outputs": [
    {
     "name": "stdout",
     "output_type": "stream",
     "text": [
      "Epoch 0, Loss: nan\n",
      "Epoch 10, Loss: nan\n",
      "Epoch 20, Loss: nan\n",
      "Epoch 30, Loss: nan\n",
      "Epoch 40, Loss: nan\n",
      "Epoch 50, Loss: nan\n",
      "Epoch 60, Loss: nan\n",
      "Epoch 70, Loss: nan\n",
      "Epoch 80, Loss: nan\n",
      "Epoch 90, Loss: nan\n",
      "Epoch 100, Loss: nan\n",
      "Epoch 110, Loss: nan\n",
      "Epoch 120, Loss: nan\n",
      "Epoch 130, Loss: nan\n",
      "Epoch 140, Loss: nan\n",
      "Epoch 150, Loss: nan\n",
      "Epoch 160, Loss: nan\n",
      "Epoch 170, Loss: nan\n",
      "Epoch 180, Loss: nan\n",
      "Epoch 190, Loss: nan\n"
     ]
    }
   ],
   "source": [
    "# Training for a few epochs\n",
    "for epoch in range(200):\n",
    "    loss = train()\n",
    "    if epoch % 10 == 0:\n",
    "        print(f'Epoch {epoch}, Loss: {loss:.4f}')"
   ]
  },
  {
   "cell_type": "code",
   "execution_count": 43,
   "id": "c7f75754-eeae-4f4a-8b58-4499b4587f7b",
   "metadata": {
    "tags": []
   },
   "outputs": [],
   "source": [
    "# Get the node embeddings from the GNN\n",
    "model.eval()\n",
    "with torch.no_grad():\n",
    "    node_embeddings = model(data)"
   ]
  },
  {
   "cell_type": "code",
   "execution_count": 44,
   "id": "431245d1-eff7-499b-b33a-b5f30709fd3f",
   "metadata": {
    "tags": []
   },
   "outputs": [],
   "source": [
    "# User embeddings (first len(user_data) rows) and destination embeddings (remaining rows)\n",
    "user_embeddings = node_embeddings[:len(user_data)]\n",
    "destination_embeddings = node_embeddings[len(user_data):]"
   ]
  },
  {
   "cell_type": "code",
   "execution_count": 55,
   "id": "eae367e6-fc21-4464-8d1c-744c091bcc8a",
   "metadata": {
    "tags": []
   },
   "outputs": [],
   "source": [
    "# Recommend destinations to a specific user (e.g., User 0)\n",
    "user_idx = 3\n",
    "user_embedding = user_embeddings[user_idx]"
   ]
  },
  {
   "cell_type": "code",
   "execution_count": 56,
   "id": "99974777-2573-4ef6-ad18-98dd99f2293f",
   "metadata": {
    "tags": []
   },
   "outputs": [],
   "source": [
    "# Compute similarity (e.g., cosine similarity) between user and all destination embeddings\n",
    "cos_sim = torch.nn.CosineSimilarity(dim=1)\n",
    "similarities = cos_sim(user_embedding.unsqueeze(0), destination_embeddings)"
   ]
  },
  {
   "cell_type": "code",
   "execution_count": 57,
   "id": "76539561-a634-411b-932f-37b923f61f9c",
   "metadata": {
    "tags": []
   },
   "outputs": [],
   "source": [
    "# Get top 5 most similar destinations\n",
    "top_destinations = similarities.topk(5)"
   ]
  },
  {
   "cell_type": "code",
   "execution_count": 58,
   "id": "d5fb44a2-5598-41e7-ac52-de9bf0e73675",
   "metadata": {
    "tags": []
   },
   "outputs": [
    {
     "name": "stdout",
     "output_type": "stream",
     "text": [
      "Top recommended destinations for User 3:\n",
      "Weligama Beach (surf and stay)\n",
      "Hikkaduwa Beach\n",
      "Arugam Bay Beach\n",
      "Mirissa Beach\n",
      "Ahangama\n"
     ]
    }
   ],
   "source": [
    "# Convert the indices to a list of integers\n",
    "top_destinations_indices = top_destinations.indices.tolist()  # Convert tensor to list of integers\n",
    "\n",
    "print(f\"Top recommended destinations for User {user_idx}:\")\n",
    "for i in top_destinations_indices:\n",
    "    print(destination_data.iloc[i]['name'])  # Now indexing will work correctly"
   ]
  },
  {
   "cell_type": "code",
   "execution_count": 59,
   "id": "4f7b5ef9-e477-4914-a6b5-57c9441d8b7a",
   "metadata": {
    "tags": []
   },
   "outputs": [],
   "source": [
    "import torch\n",
    "from sklearn.model_selection import train_test_split\n",
    "\n",
    "# Assuming `edge_index` contains user-to-destination edges\n",
    "# Split edges into training and test sets (e.g., 80% train, 20% test)\n",
    "edges = edge_index.t().tolist()\n",
    "train_edges, test_edges = train_test_split(edges, test_size=0.2, random_state=42)"
   ]
  },
  {
   "cell_type": "code",
   "execution_count": 60,
   "id": "437861a9-47c8-4e09-94ae-f1785c07c21a",
   "metadata": {
    "tags": []
   },
   "outputs": [],
   "source": [
    "# Convert back to tensor\n",
    "train_edge_index = torch.tensor(train_edges, dtype=torch.long).t().contiguous()\n",
    "test_edge_index = torch.tensor(test_edges, dtype=torch.long).t().contiguous()"
   ]
  },
  {
   "cell_type": "code",
   "execution_count": 61,
   "id": "64c25792-cbab-4544-98e1-d8e6b0acc12a",
   "metadata": {
    "tags": []
   },
   "outputs": [],
   "source": [
    "# Assuming `data` is your graph data object\n",
    "data.edge_index = train_edge_index  # Use the training edges for training\n",
    "\n",
    "# Continue training your GNN model as before\n",
    "model.train()\n",
    "optimizer = torch.optim.Adam(model.parameters(), lr=0.01)\n",
    "\n",
    "for epoch in range(200):\n",
    "    optimizer.zero_grad()\n",
    "    out = model(data)\n",
    "    loss = F.mse_loss(out, out)  # Example unsupervised loss\n",
    "    loss.backward()\n",
    "    optimizer.step()\n"
   ]
  },
  {
   "cell_type": "code",
   "execution_count": 62,
   "id": "77291ce0-ee1f-4a0f-a340-27c79c84b679",
   "metadata": {
    "tags": []
   },
   "outputs": [],
   "source": [
    "model.eval()\n",
    "with torch.no_grad():\n",
    "    node_embeddings = model(data)\n"
   ]
  },
  {
   "cell_type": "code",
   "execution_count": 63,
   "id": "30422751-df1c-4db9-8215-b687826bcd71",
   "metadata": {
    "tags": []
   },
   "outputs": [],
   "source": [
    "# Get user and destination embeddings\n",
    "user_embeddings = node_embeddings[:len(user_data)]\n",
    "destination_embeddings = node_embeddings[len(user_data):]"
   ]
  },
  {
   "cell_type": "code",
   "execution_count": 64,
   "id": "ec064f05-e30e-40e3-8d11-ced0107cba17",
   "metadata": {
    "tags": []
   },
   "outputs": [],
   "source": [
    "# Example: Compute similarity scores for test edges\n",
    "cos_sim = torch.nn.CosineSimilarity(dim=1)"
   ]
  },
  {
   "cell_type": "code",
   "execution_count": 67,
   "id": "06f2c87d-ebe1-4bc6-96ea-4b62bbe5ac9f",
   "metadata": {
    "tags": []
   },
   "outputs": [],
   "source": [
    "def compute_score(edge):\n",
    "    user_idx, dest_idx = edge\n",
    "    user_embedding = user_embeddings[user_idx]\n",
    "    dest_embedding = destination_embeddings[dest_idx - len(user_data)]\n",
    "    return cos_sim(user_embedding.unsqueeze(0), dest_embedding.unsqueeze(0)).item()"
   ]
  },
  {
   "cell_type": "code",
   "execution_count": 71,
   "id": "b29b2dd1-f107-4718-8298-685d8c673d3c",
   "metadata": {
    "tags": []
   },
   "outputs": [
    {
     "name": "stdout",
     "output_type": "stream",
     "text": [
      "User embeddings shape: torch.Size([9974, 16])\n",
      "Destination embeddings shape: torch.Size([411, 16])\n"
     ]
    }
   ],
   "source": [
    "print(f\"User embeddings shape: {user_embeddings.shape}\")  # Should be (num_users, embedding_dim)\n",
    "print(f\"Destination embeddings shape: {destination_embeddings.shape}\")  # Should be (num_destinations, embedding_dim)\n"
   ]
  }
 ],
 "metadata": {
  "kernelspec": {
   "display_name": "Python 3 (ipykernel)",
   "language": "python",
   "name": "python3"
  },
  "language_info": {
   "codemirror_mode": {
    "name": "ipython",
    "version": 3
   },
   "file_extension": ".py",
   "mimetype": "text/x-python",
   "name": "python",
   "nbconvert_exporter": "python",
   "pygments_lexer": "ipython3",
   "version": "3.11.5"
  }
 },
 "nbformat": 4,
 "nbformat_minor": 5
}
